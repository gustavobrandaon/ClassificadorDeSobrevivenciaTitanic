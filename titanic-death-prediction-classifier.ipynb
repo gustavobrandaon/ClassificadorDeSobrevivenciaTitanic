{
 "cells": [
  {
   "cell_type": "markdown",
   "id": "f1c2a8c2",
   "metadata": {
    "papermill": {
     "duration": 0.017035,
     "end_time": "2023-03-13T19:12:45.201991",
     "exception": false,
     "start_time": "2023-03-13T19:12:45.184956",
     "status": "completed"
    },
    "tags": []
   },
   "source": [
    "## Imports"
   ]
  },
  {
   "cell_type": "code",
   "execution_count": 1,
   "id": "9fa42150",
   "metadata": {
    "execution": {
     "iopub.execute_input": "2023-03-13T19:12:45.236639Z",
     "iopub.status.busy": "2023-03-13T19:12:45.236049Z",
     "iopub.status.idle": "2023-03-13T19:12:46.491617Z",
     "shell.execute_reply": "2023-03-13T19:12:46.489565Z"
    },
    "papermill": {
     "duration": 1.277377,
     "end_time": "2023-03-13T19:12:46.495360",
     "exception": false,
     "start_time": "2023-03-13T19:12:45.217983",
     "status": "completed"
    },
    "tags": []
   },
   "outputs": [],
   "source": [
    "import numpy as np\n",
    "import pandas as pd \n",
    "from matplotlib import pyplot as plt\n",
    "import seaborn as sns\n",
    "%matplotlib inline"
   ]
  },
  {
   "cell_type": "markdown",
   "id": "00a508ec",
   "metadata": {
    "papermill": {
     "duration": 0.015266,
     "end_time": "2023-03-13T19:12:46.526115",
     "exception": false,
     "start_time": "2023-03-13T19:12:46.510849",
     "status": "completed"
    },
    "tags": []
   },
   "source": [
    "## Carregando dados"
   ]
  },
  {
   "cell_type": "code",
   "execution_count": 2,
   "id": "5ac99345",
   "metadata": {
    "execution": {
     "iopub.execute_input": "2023-03-13T19:12:46.562321Z",
     "iopub.status.busy": "2023-03-13T19:12:46.561766Z",
     "iopub.status.idle": "2023-03-13T19:12:46.592883Z",
     "shell.execute_reply": "2023-03-13T19:12:46.591739Z"
    },
    "papermill": {
     "duration": 0.052603,
     "end_time": "2023-03-13T19:12:46.595867",
     "exception": false,
     "start_time": "2023-03-13T19:12:46.543264",
     "status": "completed"
    },
    "tags": []
   },
   "outputs": [],
   "source": [
    "traindf = pd.read_csv(\"/kaggle/input/titanic/train.csv\")\n",
    "testdf = pd.read_csv(\"/kaggle/input/titanic/test.csv\")\n",
    "data_cleaner = [traindf, testdf]"
   ]
  },
  {
   "cell_type": "markdown",
   "id": "aa7216a1",
   "metadata": {
    "papermill": {
     "duration": 0.015193,
     "end_time": "2023-03-13T19:12:46.626966",
     "exception": false,
     "start_time": "2023-03-13T19:12:46.611773",
     "status": "completed"
    },
    "tags": []
   },
   "source": [
    "## Visualização"
   ]
  },
  {
   "cell_type": "code",
   "execution_count": 3,
   "id": "a7b2d61b",
   "metadata": {
    "execution": {
     "iopub.execute_input": "2023-03-13T19:12:46.661150Z",
     "iopub.status.busy": "2023-03-13T19:12:46.660659Z",
     "iopub.status.idle": "2023-03-13T19:12:46.703549Z",
     "shell.execute_reply": "2023-03-13T19:12:46.702069Z"
    },
    "papermill": {
     "duration": 0.06351,
     "end_time": "2023-03-13T19:12:46.705954",
     "exception": false,
     "start_time": "2023-03-13T19:12:46.642444",
     "status": "completed"
    },
    "tags": []
   },
   "outputs": [
    {
     "data": {
      "text/html": [
       "<div>\n",
       "<style scoped>\n",
       "    .dataframe tbody tr th:only-of-type {\n",
       "        vertical-align: middle;\n",
       "    }\n",
       "\n",
       "    .dataframe tbody tr th {\n",
       "        vertical-align: top;\n",
       "    }\n",
       "\n",
       "    .dataframe thead th {\n",
       "        text-align: right;\n",
       "    }\n",
       "</style>\n",
       "<table border=\"1\" class=\"dataframe\">\n",
       "  <thead>\n",
       "    <tr style=\"text-align: right;\">\n",
       "      <th></th>\n",
       "      <th>PassengerId</th>\n",
       "      <th>Survived</th>\n",
       "      <th>Pclass</th>\n",
       "      <th>Name</th>\n",
       "      <th>Sex</th>\n",
       "      <th>Age</th>\n",
       "      <th>SibSp</th>\n",
       "      <th>Parch</th>\n",
       "      <th>Ticket</th>\n",
       "      <th>Fare</th>\n",
       "      <th>Cabin</th>\n",
       "      <th>Embarked</th>\n",
       "    </tr>\n",
       "  </thead>\n",
       "  <tbody>\n",
       "    <tr>\n",
       "      <th>0</th>\n",
       "      <td>1</td>\n",
       "      <td>0</td>\n",
       "      <td>3</td>\n",
       "      <td>Braund, Mr. Owen Harris</td>\n",
       "      <td>male</td>\n",
       "      <td>22.0</td>\n",
       "      <td>1</td>\n",
       "      <td>0</td>\n",
       "      <td>A/5 21171</td>\n",
       "      <td>7.2500</td>\n",
       "      <td>NaN</td>\n",
       "      <td>S</td>\n",
       "    </tr>\n",
       "    <tr>\n",
       "      <th>1</th>\n",
       "      <td>2</td>\n",
       "      <td>1</td>\n",
       "      <td>1</td>\n",
       "      <td>Cumings, Mrs. John Bradley (Florence Briggs Th...</td>\n",
       "      <td>female</td>\n",
       "      <td>38.0</td>\n",
       "      <td>1</td>\n",
       "      <td>0</td>\n",
       "      <td>PC 17599</td>\n",
       "      <td>71.2833</td>\n",
       "      <td>C85</td>\n",
       "      <td>C</td>\n",
       "    </tr>\n",
       "    <tr>\n",
       "      <th>2</th>\n",
       "      <td>3</td>\n",
       "      <td>1</td>\n",
       "      <td>3</td>\n",
       "      <td>Heikkinen, Miss. Laina</td>\n",
       "      <td>female</td>\n",
       "      <td>26.0</td>\n",
       "      <td>0</td>\n",
       "      <td>0</td>\n",
       "      <td>STON/O2. 3101282</td>\n",
       "      <td>7.9250</td>\n",
       "      <td>NaN</td>\n",
       "      <td>S</td>\n",
       "    </tr>\n",
       "    <tr>\n",
       "      <th>3</th>\n",
       "      <td>4</td>\n",
       "      <td>1</td>\n",
       "      <td>1</td>\n",
       "      <td>Futrelle, Mrs. Jacques Heath (Lily May Peel)</td>\n",
       "      <td>female</td>\n",
       "      <td>35.0</td>\n",
       "      <td>1</td>\n",
       "      <td>0</td>\n",
       "      <td>113803</td>\n",
       "      <td>53.1000</td>\n",
       "      <td>C123</td>\n",
       "      <td>S</td>\n",
       "    </tr>\n",
       "    <tr>\n",
       "      <th>4</th>\n",
       "      <td>5</td>\n",
       "      <td>0</td>\n",
       "      <td>3</td>\n",
       "      <td>Allen, Mr. William Henry</td>\n",
       "      <td>male</td>\n",
       "      <td>35.0</td>\n",
       "      <td>0</td>\n",
       "      <td>0</td>\n",
       "      <td>373450</td>\n",
       "      <td>8.0500</td>\n",
       "      <td>NaN</td>\n",
       "      <td>S</td>\n",
       "    </tr>\n",
       "  </tbody>\n",
       "</table>\n",
       "</div>"
      ],
      "text/plain": [
       "   PassengerId  Survived  Pclass  \\\n",
       "0            1         0       3   \n",
       "1            2         1       1   \n",
       "2            3         1       3   \n",
       "3            4         1       1   \n",
       "4            5         0       3   \n",
       "\n",
       "                                                Name     Sex   Age  SibSp  \\\n",
       "0                            Braund, Mr. Owen Harris    male  22.0      1   \n",
       "1  Cumings, Mrs. John Bradley (Florence Briggs Th...  female  38.0      1   \n",
       "2                             Heikkinen, Miss. Laina  female  26.0      0   \n",
       "3       Futrelle, Mrs. Jacques Heath (Lily May Peel)  female  35.0      1   \n",
       "4                           Allen, Mr. William Henry    male  35.0      0   \n",
       "\n",
       "   Parch            Ticket     Fare Cabin Embarked  \n",
       "0      0         A/5 21171   7.2500   NaN        S  \n",
       "1      0          PC 17599  71.2833   C85        C  \n",
       "2      0  STON/O2. 3101282   7.9250   NaN        S  \n",
       "3      0            113803  53.1000  C123        S  \n",
       "4      0            373450   8.0500   NaN        S  "
      ]
     },
     "execution_count": 3,
     "metadata": {},
     "output_type": "execute_result"
    }
   ],
   "source": [
    "traindf.head(5)"
   ]
  },
  {
   "cell_type": "code",
   "execution_count": 4,
   "id": "99e66a31",
   "metadata": {
    "execution": {
     "iopub.execute_input": "2023-03-13T19:12:46.742009Z",
     "iopub.status.busy": "2023-03-13T19:12:46.741557Z",
     "iopub.status.idle": "2023-03-13T19:12:46.758603Z",
     "shell.execute_reply": "2023-03-13T19:12:46.757592Z"
    },
    "papermill": {
     "duration": 0.037555,
     "end_time": "2023-03-13T19:12:46.760906",
     "exception": false,
     "start_time": "2023-03-13T19:12:46.723351",
     "status": "completed"
    },
    "tags": []
   },
   "outputs": [
    {
     "data": {
      "text/html": [
       "<div>\n",
       "<style scoped>\n",
       "    .dataframe tbody tr th:only-of-type {\n",
       "        vertical-align: middle;\n",
       "    }\n",
       "\n",
       "    .dataframe tbody tr th {\n",
       "        vertical-align: top;\n",
       "    }\n",
       "\n",
       "    .dataframe thead th {\n",
       "        text-align: right;\n",
       "    }\n",
       "</style>\n",
       "<table border=\"1\" class=\"dataframe\">\n",
       "  <thead>\n",
       "    <tr style=\"text-align: right;\">\n",
       "      <th></th>\n",
       "      <th>PassengerId</th>\n",
       "      <th>Pclass</th>\n",
       "      <th>Name</th>\n",
       "      <th>Sex</th>\n",
       "      <th>Age</th>\n",
       "      <th>SibSp</th>\n",
       "      <th>Parch</th>\n",
       "      <th>Ticket</th>\n",
       "      <th>Fare</th>\n",
       "      <th>Cabin</th>\n",
       "      <th>Embarked</th>\n",
       "    </tr>\n",
       "  </thead>\n",
       "  <tbody>\n",
       "    <tr>\n",
       "      <th>0</th>\n",
       "      <td>892</td>\n",
       "      <td>3</td>\n",
       "      <td>Kelly, Mr. James</td>\n",
       "      <td>male</td>\n",
       "      <td>34.5</td>\n",
       "      <td>0</td>\n",
       "      <td>0</td>\n",
       "      <td>330911</td>\n",
       "      <td>7.8292</td>\n",
       "      <td>NaN</td>\n",
       "      <td>Q</td>\n",
       "    </tr>\n",
       "    <tr>\n",
       "      <th>1</th>\n",
       "      <td>893</td>\n",
       "      <td>3</td>\n",
       "      <td>Wilkes, Mrs. James (Ellen Needs)</td>\n",
       "      <td>female</td>\n",
       "      <td>47.0</td>\n",
       "      <td>1</td>\n",
       "      <td>0</td>\n",
       "      <td>363272</td>\n",
       "      <td>7.0000</td>\n",
       "      <td>NaN</td>\n",
       "      <td>S</td>\n",
       "    </tr>\n",
       "    <tr>\n",
       "      <th>2</th>\n",
       "      <td>894</td>\n",
       "      <td>2</td>\n",
       "      <td>Myles, Mr. Thomas Francis</td>\n",
       "      <td>male</td>\n",
       "      <td>62.0</td>\n",
       "      <td>0</td>\n",
       "      <td>0</td>\n",
       "      <td>240276</td>\n",
       "      <td>9.6875</td>\n",
       "      <td>NaN</td>\n",
       "      <td>Q</td>\n",
       "    </tr>\n",
       "    <tr>\n",
       "      <th>3</th>\n",
       "      <td>895</td>\n",
       "      <td>3</td>\n",
       "      <td>Wirz, Mr. Albert</td>\n",
       "      <td>male</td>\n",
       "      <td>27.0</td>\n",
       "      <td>0</td>\n",
       "      <td>0</td>\n",
       "      <td>315154</td>\n",
       "      <td>8.6625</td>\n",
       "      <td>NaN</td>\n",
       "      <td>S</td>\n",
       "    </tr>\n",
       "    <tr>\n",
       "      <th>4</th>\n",
       "      <td>896</td>\n",
       "      <td>3</td>\n",
       "      <td>Hirvonen, Mrs. Alexander (Helga E Lindqvist)</td>\n",
       "      <td>female</td>\n",
       "      <td>22.0</td>\n",
       "      <td>1</td>\n",
       "      <td>1</td>\n",
       "      <td>3101298</td>\n",
       "      <td>12.2875</td>\n",
       "      <td>NaN</td>\n",
       "      <td>S</td>\n",
       "    </tr>\n",
       "  </tbody>\n",
       "</table>\n",
       "</div>"
      ],
      "text/plain": [
       "   PassengerId  Pclass                                          Name     Sex  \\\n",
       "0          892       3                              Kelly, Mr. James    male   \n",
       "1          893       3              Wilkes, Mrs. James (Ellen Needs)  female   \n",
       "2          894       2                     Myles, Mr. Thomas Francis    male   \n",
       "3          895       3                              Wirz, Mr. Albert    male   \n",
       "4          896       3  Hirvonen, Mrs. Alexander (Helga E Lindqvist)  female   \n",
       "\n",
       "    Age  SibSp  Parch   Ticket     Fare Cabin Embarked  \n",
       "0  34.5      0      0   330911   7.8292   NaN        Q  \n",
       "1  47.0      1      0   363272   7.0000   NaN        S  \n",
       "2  62.0      0      0   240276   9.6875   NaN        Q  \n",
       "3  27.0      0      0   315154   8.6625   NaN        S  \n",
       "4  22.0      1      1  3101298  12.2875   NaN        S  "
      ]
     },
     "execution_count": 4,
     "metadata": {},
     "output_type": "execute_result"
    }
   ],
   "source": [
    "testdf.head(5)"
   ]
  },
  {
   "cell_type": "code",
   "execution_count": 5,
   "id": "ef726d4a",
   "metadata": {
    "execution": {
     "iopub.execute_input": "2023-03-13T19:12:46.796984Z",
     "iopub.status.busy": "2023-03-13T19:12:46.796156Z",
     "iopub.status.idle": "2023-03-13T19:12:46.803235Z",
     "shell.execute_reply": "2023-03-13T19:12:46.801650Z"
    },
    "papermill": {
     "duration": 0.029064,
     "end_time": "2023-03-13T19:12:46.806537",
     "exception": false,
     "start_time": "2023-03-13T19:12:46.777473",
     "status": "completed"
    },
    "tags": []
   },
   "outputs": [
    {
     "name": "stdout",
     "output_type": "stream",
     "text": [
      "['PassengerId' 'Survived' 'Pclass' 'Name' 'Sex' 'Age' 'SibSp' 'Parch'\n",
      " 'Ticket' 'Fare' 'Cabin' 'Embarked']\n"
     ]
    }
   ],
   "source": [
    "print(traindf.columns.values)"
   ]
  },
  {
   "cell_type": "markdown",
   "id": "1995c186",
   "metadata": {
    "execution": {
     "iopub.execute_input": "2023-03-07T17:04:04.160421Z",
     "iopub.status.busy": "2023-03-07T17:04:04.159645Z",
     "iopub.status.idle": "2023-03-07T17:04:04.169761Z",
     "shell.execute_reply": "2023-03-07T17:04:04.167884Z",
     "shell.execute_reply.started": "2023-03-07T17:04:04.160372Z"
    },
    "papermill": {
     "duration": 0.015679,
     "end_time": "2023-03-13T19:12:46.839601",
     "exception": false,
     "start_time": "2023-03-13T19:12:46.823922",
     "status": "completed"
    },
    "tags": []
   },
   "source": [
    "### Features categóricas\n",
    "- Categóricas: Survived, Sex, and Embarked. \n",
    "- Ordinais: Pclass."
   ]
  },
  {
   "cell_type": "markdown",
   "id": "b034a836",
   "metadata": {
    "papermill": {
     "duration": 0.016019,
     "end_time": "2023-03-13T19:12:46.871579",
     "exception": false,
     "start_time": "2023-03-13T19:12:46.855560",
     "status": "completed"
    },
    "tags": []
   },
   "source": [
    "### Features numéricas\n",
    "- Continuas: Age, Fare. \n",
    "- Discretas: SibSp, Parch."
   ]
  },
  {
   "cell_type": "code",
   "execution_count": 6,
   "id": "16ff88c5",
   "metadata": {
    "execution": {
     "iopub.execute_input": "2023-03-13T19:12:46.906663Z",
     "iopub.status.busy": "2023-03-13T19:12:46.906249Z",
     "iopub.status.idle": "2023-03-13T19:12:46.911897Z",
     "shell.execute_reply": "2023-03-13T19:12:46.910967Z"
    },
    "papermill": {
     "duration": 0.026905,
     "end_time": "2023-03-13T19:12:46.915640",
     "exception": false,
     "start_time": "2023-03-13T19:12:46.888735",
     "status": "completed"
    },
    "tags": []
   },
   "outputs": [
    {
     "name": "stdout",
     "output_type": "stream",
     "text": [
      "Tamanho teste: (418, 11)\n",
      "Tamanho treino: (891, 12)\n"
     ]
    }
   ],
   "source": [
    "print(\"Tamanho teste: {}\".format(testdf.shape))\n",
    "print(\"Tamanho treino: {}\".format(traindf.shape))"
   ]
  },
  {
   "cell_type": "code",
   "execution_count": 7,
   "id": "e9d878cb",
   "metadata": {
    "execution": {
     "iopub.execute_input": "2023-03-13T19:12:46.951521Z",
     "iopub.status.busy": "2023-03-13T19:12:46.951001Z",
     "iopub.status.idle": "2023-03-13T19:12:46.989531Z",
     "shell.execute_reply": "2023-03-13T19:12:46.988077Z"
    },
    "papermill": {
     "duration": 0.060437,
     "end_time": "2023-03-13T19:12:46.992685",
     "exception": false,
     "start_time": "2023-03-13T19:12:46.932248",
     "status": "completed"
    },
    "tags": []
   },
   "outputs": [
    {
     "name": "stdout",
     "output_type": "stream",
     "text": [
      "<class 'pandas.core.frame.DataFrame'>\n",
      "RangeIndex: 891 entries, 0 to 890\n",
      "Data columns (total 12 columns):\n",
      " #   Column       Non-Null Count  Dtype  \n",
      "---  ------       --------------  -----  \n",
      " 0   PassengerId  891 non-null    int64  \n",
      " 1   Survived     891 non-null    int64  \n",
      " 2   Pclass       891 non-null    int64  \n",
      " 3   Name         891 non-null    object \n",
      " 4   Sex          891 non-null    object \n",
      " 5   Age          714 non-null    float64\n",
      " 6   SibSp        891 non-null    int64  \n",
      " 7   Parch        891 non-null    int64  \n",
      " 8   Ticket       891 non-null    object \n",
      " 9   Fare         891 non-null    float64\n",
      " 10  Cabin        204 non-null    object \n",
      " 11  Embarked     889 non-null    object \n",
      "dtypes: float64(2), int64(5), object(5)\n",
      "memory usage: 83.7+ KB\n",
      "________________________________________\n",
      "<class 'pandas.core.frame.DataFrame'>\n",
      "RangeIndex: 418 entries, 0 to 417\n",
      "Data columns (total 11 columns):\n",
      " #   Column       Non-Null Count  Dtype  \n",
      "---  ------       --------------  -----  \n",
      " 0   PassengerId  418 non-null    int64  \n",
      " 1   Pclass       418 non-null    int64  \n",
      " 2   Name         418 non-null    object \n",
      " 3   Sex          418 non-null    object \n",
      " 4   Age          332 non-null    float64\n",
      " 5   SibSp        418 non-null    int64  \n",
      " 6   Parch        418 non-null    int64  \n",
      " 7   Ticket       418 non-null    object \n",
      " 8   Fare         417 non-null    float64\n",
      " 9   Cabin        91 non-null     object \n",
      " 10  Embarked     418 non-null    object \n",
      "dtypes: float64(2), int64(4), object(5)\n",
      "memory usage: 36.0+ KB\n"
     ]
    }
   ],
   "source": [
    "traindf.info()\n",
    "print('_'*40)\n",
    "testdf.info()"
   ]
  },
  {
   "cell_type": "code",
   "execution_count": 8,
   "id": "d4b9b816",
   "metadata": {
    "execution": {
     "iopub.execute_input": "2023-03-13T19:12:47.033180Z",
     "iopub.status.busy": "2023-03-13T19:12:47.032396Z",
     "iopub.status.idle": "2023-03-13T19:12:47.045532Z",
     "shell.execute_reply": "2023-03-13T19:12:47.042804Z"
    },
    "papermill": {
     "duration": 0.037888,
     "end_time": "2023-03-13T19:12:47.049296",
     "exception": false,
     "start_time": "2023-03-13T19:12:47.011408",
     "status": "completed"
    },
    "tags": []
   },
   "outputs": [
    {
     "name": "stdout",
     "output_type": "stream",
     "text": [
      "Train columns with null values:\n",
      " PassengerId      0\n",
      "Survived         0\n",
      "Pclass           0\n",
      "Name             0\n",
      "Sex              0\n",
      "Age            177\n",
      "SibSp            0\n",
      "Parch            0\n",
      "Ticket           0\n",
      "Fare             0\n",
      "Cabin          687\n",
      "Embarked         2\n",
      "dtype: int64\n",
      "\n",
      "Train columns with null values:\n",
      " PassengerId      0\n",
      "Pclass           0\n",
      "Name             0\n",
      "Sex              0\n",
      "Age             86\n",
      "SibSp            0\n",
      "Parch            0\n",
      "Ticket           0\n",
      "Fare             1\n",
      "Cabin          327\n",
      "Embarked         0\n",
      "dtype: int64\n"
     ]
    }
   ],
   "source": [
    "print('Train columns with null values:\\n', traindf.isnull().sum())\n",
    "print()\n",
    "print('Train columns with null values:\\n', testdf.isnull().sum())"
   ]
  },
  {
   "cell_type": "markdown",
   "id": "186e0a6b",
   "metadata": {
    "execution": {
     "iopub.execute_input": "2023-03-08T18:08:20.002556Z",
     "iopub.status.busy": "2023-03-08T18:08:20.002105Z",
     "iopub.status.idle": "2023-03-08T18:08:20.007885Z",
     "shell.execute_reply": "2023-03-08T18:08:20.006722Z",
     "shell.execute_reply.started": "2023-03-08T18:08:20.002513Z"
    },
    "papermill": {
     "duration": 0.019239,
     "end_time": "2023-03-13T19:12:47.087551",
     "exception": false,
     "start_time": "2023-03-13T19:12:47.068312",
     "status": "completed"
    },
    "tags": []
   },
   "source": [
    "#### Temos nulos nas colunas Age, Fare e Cabin\n",
    "#### Para os nulos na coluna Age, vamos adicionar valores baseados na mediana"
   ]
  },
  {
   "cell_type": "markdown",
   "id": "4fa77a4f",
   "metadata": {
    "papermill": {
     "duration": 0.017596,
     "end_time": "2023-03-13T19:12:47.122218",
     "exception": false,
     "start_time": "2023-03-13T19:12:47.104622",
     "status": "completed"
    },
    "tags": []
   },
   "source": [
    "## Limpando, preenchendo dados"
   ]
  },
  {
   "cell_type": "code",
   "execution_count": 9,
   "id": "dc9a406e",
   "metadata": {
    "execution": {
     "iopub.execute_input": "2023-03-13T19:12:47.160239Z",
     "iopub.status.busy": "2023-03-13T19:12:47.158890Z",
     "iopub.status.idle": "2023-03-13T19:12:47.178115Z",
     "shell.execute_reply": "2023-03-13T19:12:47.176465Z"
    },
    "papermill": {
     "duration": 0.041464,
     "end_time": "2023-03-13T19:12:47.181585",
     "exception": false,
     "start_time": "2023-03-13T19:12:47.140121",
     "status": "completed"
    },
    "tags": []
   },
   "outputs": [],
   "source": [
    "for dataset in data_cleaner:\n",
    "    \n",
    "    # Preenchemos nos nulos em idade com a mediana\n",
    "    traindf['Age'].fillna(traindf['Age'].median(), inplace = True)\n",
    "    testdf['Age'].fillna(testdf['Age'].median(), inplace = True)\n",
    "    \n",
    "    # Transformamos a coluna idade em int\n",
    "    traindf['Age'] = traindf['Age'].astype(int)\n",
    "    testdf['Age'] = testdf['Age'].astype(int)\n",
    "    \n",
    "    # Completamos embarcado com .mode\n",
    "    traindf['Embarked'].fillna(traindf['Embarked'].mode()[0], inplace = True)\n",
    "    testdf['Embarked'].fillna(testdf['Embarked'].mode()[0], inplace = True)\n",
    "    \n",
    "# Removemos passengerId, cabine e ticket do dataset\n",
    "#drop_column = ['PassengerId','Cabin', 'Ticket']\n",
    "#traindf.drop(drop_column, axis=1, inplace = True)"
   ]
  },
  {
   "cell_type": "markdown",
   "id": "7994525e",
   "metadata": {
    "execution": {
     "iopub.execute_input": "2023-03-08T20:42:30.357162Z",
     "iopub.status.busy": "2023-03-08T20:42:30.356784Z",
     "iopub.status.idle": "2023-03-08T20:42:30.363476Z",
     "shell.execute_reply": "2023-03-08T20:42:30.361394Z",
     "shell.execute_reply.started": "2023-03-08T20:42:30.357128Z"
    },
    "papermill": {
     "duration": 0.017041,
     "end_time": "2023-03-13T19:12:47.216578",
     "exception": false,
     "start_time": "2023-03-13T19:12:47.199537",
     "status": "completed"
    },
    "tags": []
   },
   "source": [
    "## Criando novas variáveis para nos ajudar realizar as analises"
   ]
  },
  {
   "cell_type": "code",
   "execution_count": 10,
   "id": "1cfbc95a",
   "metadata": {
    "execution": {
     "iopub.execute_input": "2023-03-13T19:12:47.252245Z",
     "iopub.status.busy": "2023-03-13T19:12:47.251739Z",
     "iopub.status.idle": "2023-03-13T19:12:47.262981Z",
     "shell.execute_reply": "2023-03-13T19:12:47.261650Z"
    },
    "papermill": {
     "duration": 0.03271,
     "end_time": "2023-03-13T19:12:47.265858",
     "exception": false,
     "start_time": "2023-03-13T19:12:47.233148",
     "status": "completed"
    },
    "tags": []
   },
   "outputs": [],
   "source": [
    "# Criamos uma nova variável tamanho da família\n",
    "traindf['FamilySize'] = traindf['SibSp'] + traindf['Parch'] + 1\n",
    "testdf['FamilySize'] = testdf['SibSp'] + testdf['Parch'] + 1"
   ]
  },
  {
   "cell_type": "code",
   "execution_count": 11,
   "id": "de5675da",
   "metadata": {
    "execution": {
     "iopub.execute_input": "2023-03-13T19:12:47.302559Z",
     "iopub.status.busy": "2023-03-13T19:12:47.302091Z",
     "iopub.status.idle": "2023-03-13T19:12:47.318281Z",
     "shell.execute_reply": "2023-03-13T19:12:47.316797Z"
    },
    "papermill": {
     "duration": 0.039367,
     "end_time": "2023-03-13T19:12:47.322882",
     "exception": false,
     "start_time": "2023-03-13T19:12:47.283515",
     "status": "completed"
    },
    "tags": []
   },
   "outputs": [
    {
     "name": "stderr",
     "output_type": "stream",
     "text": [
      "/opt/conda/lib/python3.7/site-packages/pandas/core/indexing.py:1732: SettingWithCopyWarning: \n",
      "A value is trying to be set on a copy of a slice from a DataFrame\n",
      "\n",
      "See the caveats in the documentation: https://pandas.pydata.org/pandas-docs/stable/user_guide/indexing.html#returning-a-view-versus-a-copy\n",
      "  self._setitem_single_block(indexer, value, name)\n"
     ]
    }
   ],
   "source": [
    "# Criamos variável isAlone, para saber se o passageiro se encontrava sozinho\n",
    "traindf['IsAlone'] = 1\n",
    "traindf['IsAlone'].loc[traindf['FamilySize'] > 1] = 0\n",
    "\n",
    "testdf['IsAlone'] = 1\n",
    "testdf['IsAlone'].loc[testdf['FamilySize'] > 1] = 0"
   ]
  },
  {
   "cell_type": "code",
   "execution_count": 12,
   "id": "9ad2a857",
   "metadata": {
    "execution": {
     "iopub.execute_input": "2023-03-13T19:12:47.361535Z",
     "iopub.status.busy": "2023-03-13T19:12:47.361059Z",
     "iopub.status.idle": "2023-03-13T19:12:47.396493Z",
     "shell.execute_reply": "2023-03-13T19:12:47.394449Z"
    },
    "papermill": {
     "duration": 0.057923,
     "end_time": "2023-03-13T19:12:47.399881",
     "exception": false,
     "start_time": "2023-03-13T19:12:47.341958",
     "status": "completed"
    },
    "tags": []
   },
   "outputs": [
    {
     "data": {
      "text/html": [
       "<div>\n",
       "<style scoped>\n",
       "    .dataframe tbody tr th:only-of-type {\n",
       "        vertical-align: middle;\n",
       "    }\n",
       "\n",
       "    .dataframe tbody tr th {\n",
       "        vertical-align: top;\n",
       "    }\n",
       "\n",
       "    .dataframe thead th {\n",
       "        text-align: right;\n",
       "    }\n",
       "</style>\n",
       "<table border=\"1\" class=\"dataframe\">\n",
       "  <thead>\n",
       "    <tr style=\"text-align: right;\">\n",
       "      <th></th>\n",
       "      <th>PassengerId</th>\n",
       "      <th>Pclass</th>\n",
       "      <th>Name</th>\n",
       "      <th>Sex</th>\n",
       "      <th>Age</th>\n",
       "      <th>SibSp</th>\n",
       "      <th>Parch</th>\n",
       "      <th>Ticket</th>\n",
       "      <th>Fare</th>\n",
       "      <th>Cabin</th>\n",
       "      <th>Embarked</th>\n",
       "      <th>FamilySize</th>\n",
       "      <th>IsAlone</th>\n",
       "    </tr>\n",
       "  </thead>\n",
       "  <tbody>\n",
       "    <tr>\n",
       "      <th>0</th>\n",
       "      <td>892</td>\n",
       "      <td>3</td>\n",
       "      <td>Kelly, Mr. James</td>\n",
       "      <td>1</td>\n",
       "      <td>34</td>\n",
       "      <td>0</td>\n",
       "      <td>0</td>\n",
       "      <td>330911</td>\n",
       "      <td>7.8292</td>\n",
       "      <td>NaN</td>\n",
       "      <td>Q</td>\n",
       "      <td>1</td>\n",
       "      <td>1</td>\n",
       "    </tr>\n",
       "    <tr>\n",
       "      <th>1</th>\n",
       "      <td>893</td>\n",
       "      <td>3</td>\n",
       "      <td>Wilkes, Mrs. James (Ellen Needs)</td>\n",
       "      <td>0</td>\n",
       "      <td>47</td>\n",
       "      <td>1</td>\n",
       "      <td>0</td>\n",
       "      <td>363272</td>\n",
       "      <td>7.0000</td>\n",
       "      <td>NaN</td>\n",
       "      <td>S</td>\n",
       "      <td>2</td>\n",
       "      <td>0</td>\n",
       "    </tr>\n",
       "    <tr>\n",
       "      <th>2</th>\n",
       "      <td>894</td>\n",
       "      <td>2</td>\n",
       "      <td>Myles, Mr. Thomas Francis</td>\n",
       "      <td>1</td>\n",
       "      <td>62</td>\n",
       "      <td>0</td>\n",
       "      <td>0</td>\n",
       "      <td>240276</td>\n",
       "      <td>9.6875</td>\n",
       "      <td>NaN</td>\n",
       "      <td>Q</td>\n",
       "      <td>1</td>\n",
       "      <td>1</td>\n",
       "    </tr>\n",
       "    <tr>\n",
       "      <th>3</th>\n",
       "      <td>895</td>\n",
       "      <td>3</td>\n",
       "      <td>Wirz, Mr. Albert</td>\n",
       "      <td>1</td>\n",
       "      <td>27</td>\n",
       "      <td>0</td>\n",
       "      <td>0</td>\n",
       "      <td>315154</td>\n",
       "      <td>8.6625</td>\n",
       "      <td>NaN</td>\n",
       "      <td>S</td>\n",
       "      <td>1</td>\n",
       "      <td>1</td>\n",
       "    </tr>\n",
       "    <tr>\n",
       "      <th>4</th>\n",
       "      <td>896</td>\n",
       "      <td>3</td>\n",
       "      <td>Hirvonen, Mrs. Alexander (Helga E Lindqvist)</td>\n",
       "      <td>0</td>\n",
       "      <td>22</td>\n",
       "      <td>1</td>\n",
       "      <td>1</td>\n",
       "      <td>3101298</td>\n",
       "      <td>12.2875</td>\n",
       "      <td>NaN</td>\n",
       "      <td>S</td>\n",
       "      <td>3</td>\n",
       "      <td>0</td>\n",
       "    </tr>\n",
       "    <tr>\n",
       "      <th>...</th>\n",
       "      <td>...</td>\n",
       "      <td>...</td>\n",
       "      <td>...</td>\n",
       "      <td>...</td>\n",
       "      <td>...</td>\n",
       "      <td>...</td>\n",
       "      <td>...</td>\n",
       "      <td>...</td>\n",
       "      <td>...</td>\n",
       "      <td>...</td>\n",
       "      <td>...</td>\n",
       "      <td>...</td>\n",
       "      <td>...</td>\n",
       "    </tr>\n",
       "    <tr>\n",
       "      <th>413</th>\n",
       "      <td>1305</td>\n",
       "      <td>3</td>\n",
       "      <td>Spector, Mr. Woolf</td>\n",
       "      <td>1</td>\n",
       "      <td>27</td>\n",
       "      <td>0</td>\n",
       "      <td>0</td>\n",
       "      <td>A.5. 3236</td>\n",
       "      <td>8.0500</td>\n",
       "      <td>NaN</td>\n",
       "      <td>S</td>\n",
       "      <td>1</td>\n",
       "      <td>1</td>\n",
       "    </tr>\n",
       "    <tr>\n",
       "      <th>414</th>\n",
       "      <td>1306</td>\n",
       "      <td>1</td>\n",
       "      <td>Oliva y Ocana, Dona. Fermina</td>\n",
       "      <td>0</td>\n",
       "      <td>39</td>\n",
       "      <td>0</td>\n",
       "      <td>0</td>\n",
       "      <td>PC 17758</td>\n",
       "      <td>108.9000</td>\n",
       "      <td>C105</td>\n",
       "      <td>C</td>\n",
       "      <td>1</td>\n",
       "      <td>1</td>\n",
       "    </tr>\n",
       "    <tr>\n",
       "      <th>415</th>\n",
       "      <td>1307</td>\n",
       "      <td>3</td>\n",
       "      <td>Saether, Mr. Simon Sivertsen</td>\n",
       "      <td>1</td>\n",
       "      <td>38</td>\n",
       "      <td>0</td>\n",
       "      <td>0</td>\n",
       "      <td>SOTON/O.Q. 3101262</td>\n",
       "      <td>7.2500</td>\n",
       "      <td>NaN</td>\n",
       "      <td>S</td>\n",
       "      <td>1</td>\n",
       "      <td>1</td>\n",
       "    </tr>\n",
       "    <tr>\n",
       "      <th>416</th>\n",
       "      <td>1308</td>\n",
       "      <td>3</td>\n",
       "      <td>Ware, Mr. Frederick</td>\n",
       "      <td>1</td>\n",
       "      <td>27</td>\n",
       "      <td>0</td>\n",
       "      <td>0</td>\n",
       "      <td>359309</td>\n",
       "      <td>8.0500</td>\n",
       "      <td>NaN</td>\n",
       "      <td>S</td>\n",
       "      <td>1</td>\n",
       "      <td>1</td>\n",
       "    </tr>\n",
       "    <tr>\n",
       "      <th>417</th>\n",
       "      <td>1309</td>\n",
       "      <td>3</td>\n",
       "      <td>Peter, Master. Michael J</td>\n",
       "      <td>1</td>\n",
       "      <td>27</td>\n",
       "      <td>1</td>\n",
       "      <td>1</td>\n",
       "      <td>2668</td>\n",
       "      <td>22.3583</td>\n",
       "      <td>NaN</td>\n",
       "      <td>C</td>\n",
       "      <td>3</td>\n",
       "      <td>0</td>\n",
       "    </tr>\n",
       "  </tbody>\n",
       "</table>\n",
       "<p>418 rows × 13 columns</p>\n",
       "</div>"
      ],
      "text/plain": [
       "     PassengerId  Pclass                                          Name  Sex  \\\n",
       "0            892       3                              Kelly, Mr. James    1   \n",
       "1            893       3              Wilkes, Mrs. James (Ellen Needs)    0   \n",
       "2            894       2                     Myles, Mr. Thomas Francis    1   \n",
       "3            895       3                              Wirz, Mr. Albert    1   \n",
       "4            896       3  Hirvonen, Mrs. Alexander (Helga E Lindqvist)    0   \n",
       "..           ...     ...                                           ...  ...   \n",
       "413         1305       3                            Spector, Mr. Woolf    1   \n",
       "414         1306       1                  Oliva y Ocana, Dona. Fermina    0   \n",
       "415         1307       3                  Saether, Mr. Simon Sivertsen    1   \n",
       "416         1308       3                           Ware, Mr. Frederick    1   \n",
       "417         1309       3                      Peter, Master. Michael J    1   \n",
       "\n",
       "     Age  SibSp  Parch              Ticket      Fare Cabin Embarked  \\\n",
       "0     34      0      0              330911    7.8292   NaN        Q   \n",
       "1     47      1      0              363272    7.0000   NaN        S   \n",
       "2     62      0      0              240276    9.6875   NaN        Q   \n",
       "3     27      0      0              315154    8.6625   NaN        S   \n",
       "4     22      1      1             3101298   12.2875   NaN        S   \n",
       "..   ...    ...    ...                 ...       ...   ...      ...   \n",
       "413   27      0      0           A.5. 3236    8.0500   NaN        S   \n",
       "414   39      0      0            PC 17758  108.9000  C105        C   \n",
       "415   38      0      0  SOTON/O.Q. 3101262    7.2500   NaN        S   \n",
       "416   27      0      0              359309    8.0500   NaN        S   \n",
       "417   27      1      1                2668   22.3583   NaN        C   \n",
       "\n",
       "     FamilySize  IsAlone  \n",
       "0             1        1  \n",
       "1             2        0  \n",
       "2             1        1  \n",
       "3             1        1  \n",
       "4             3        0  \n",
       "..          ...      ...  \n",
       "413           1        1  \n",
       "414           1        1  \n",
       "415           1        1  \n",
       "416           1        1  \n",
       "417           3        0  \n",
       "\n",
       "[418 rows x 13 columns]"
      ]
     },
     "execution_count": 12,
     "metadata": {},
     "output_type": "execute_result"
    }
   ],
   "source": [
    "# Tranformamos a variável categórica sexo para númerica\n",
    "traindf['Sex'] = traindf['Sex'].replace(['female','male'],[0,1])\n",
    "traindf\n",
    "\n",
    "testdf['Sex'] = testdf['Sex'].replace(['female','male'],[0,1])\n",
    "testdf"
   ]
  },
  {
   "cell_type": "code",
   "execution_count": 13,
   "id": "fc054e08",
   "metadata": {
    "execution": {
     "iopub.execute_input": "2023-03-13T19:12:47.439916Z",
     "iopub.status.busy": "2023-03-13T19:12:47.439471Z",
     "iopub.status.idle": "2023-03-13T19:12:47.472643Z",
     "shell.execute_reply": "2023-03-13T19:12:47.471244Z"
    },
    "papermill": {
     "duration": 0.056951,
     "end_time": "2023-03-13T19:12:47.475395",
     "exception": false,
     "start_time": "2023-03-13T19:12:47.418444",
     "status": "completed"
    },
    "tags": []
   },
   "outputs": [
    {
     "data": {
      "text/html": [
       "<div>\n",
       "<style scoped>\n",
       "    .dataframe tbody tr th:only-of-type {\n",
       "        vertical-align: middle;\n",
       "    }\n",
       "\n",
       "    .dataframe tbody tr th {\n",
       "        vertical-align: top;\n",
       "    }\n",
       "\n",
       "    .dataframe thead th {\n",
       "        text-align: right;\n",
       "    }\n",
       "</style>\n",
       "<table border=\"1\" class=\"dataframe\">\n",
       "  <thead>\n",
       "    <tr style=\"text-align: right;\">\n",
       "      <th></th>\n",
       "      <th>PassengerId</th>\n",
       "      <th>Pclass</th>\n",
       "      <th>Name</th>\n",
       "      <th>Sex</th>\n",
       "      <th>Age</th>\n",
       "      <th>SibSp</th>\n",
       "      <th>Parch</th>\n",
       "      <th>Ticket</th>\n",
       "      <th>Fare</th>\n",
       "      <th>Cabin</th>\n",
       "      <th>Embarked</th>\n",
       "      <th>FamilySize</th>\n",
       "      <th>IsAlone</th>\n",
       "      <th>Age_band</th>\n",
       "    </tr>\n",
       "  </thead>\n",
       "  <tbody>\n",
       "    <tr>\n",
       "      <th>0</th>\n",
       "      <td>892</td>\n",
       "      <td>3</td>\n",
       "      <td>Kelly, Mr. James</td>\n",
       "      <td>1</td>\n",
       "      <td>34</td>\n",
       "      <td>0</td>\n",
       "      <td>0</td>\n",
       "      <td>330911</td>\n",
       "      <td>7.8292</td>\n",
       "      <td>NaN</td>\n",
       "      <td>Q</td>\n",
       "      <td>1</td>\n",
       "      <td>1</td>\n",
       "      <td>2</td>\n",
       "    </tr>\n",
       "    <tr>\n",
       "      <th>1</th>\n",
       "      <td>893</td>\n",
       "      <td>3</td>\n",
       "      <td>Wilkes, Mrs. James (Ellen Needs)</td>\n",
       "      <td>0</td>\n",
       "      <td>47</td>\n",
       "      <td>1</td>\n",
       "      <td>0</td>\n",
       "      <td>363272</td>\n",
       "      <td>7.0000</td>\n",
       "      <td>NaN</td>\n",
       "      <td>S</td>\n",
       "      <td>2</td>\n",
       "      <td>0</td>\n",
       "      <td>2</td>\n",
       "    </tr>\n",
       "  </tbody>\n",
       "</table>\n",
       "</div>"
      ],
      "text/plain": [
       "   PassengerId  Pclass                              Name  Sex  Age  SibSp  \\\n",
       "0          892       3                  Kelly, Mr. James    1   34      0   \n",
       "1          893       3  Wilkes, Mrs. James (Ellen Needs)    0   47      1   \n",
       "\n",
       "   Parch  Ticket    Fare Cabin Embarked  FamilySize  IsAlone  Age_band  \n",
       "0      0  330911  7.8292   NaN        Q           1        1         2  \n",
       "1      0  363272  7.0000   NaN        S           2        0         2  "
      ]
     },
     "execution_count": 13,
     "metadata": {},
     "output_type": "execute_result"
    }
   ],
   "source": [
    "# Transformamos a variável idade em 4 bandas de idade\n",
    "# < 16 = 0\n",
    "# <= 48 = 2\n",
    "# <= 64 = 3\n",
    "# > 64 = 4\n",
    "\n",
    "traindf['Age_band']=0\n",
    "traindf.loc[traindf['Age']<=16,'Age_band']=0\n",
    "traindf.loc[(traindf['Age']>32)&(traindf['Age']<=48),'Age_band']=2\n",
    "traindf.loc[(traindf['Age']>48)&(traindf['Age']<=64),'Age_band']=3\n",
    "traindf.loc[traindf['Age']>64,'Age_band']=4\n",
    "traindf.head(2)\n",
    "\n",
    "testdf['Age_band']=0\n",
    "testdf.loc[testdf['Age']<=16,'Age_band']=0\n",
    "testdf.loc[(testdf['Age']>32)&(testdf['Age']<=48),'Age_band']=2\n",
    "testdf.loc[(testdf['Age']>48)&(testdf['Age']<=64),'Age_band']=3\n",
    "testdf.loc[testdf['Age']>64,'Age_band']=4\n",
    "testdf.head(2)\n"
   ]
  },
  {
   "cell_type": "markdown",
   "id": "2473f8ea",
   "metadata": {
    "execution": {
     "iopub.execute_input": "2023-03-08T21:32:59.693442Z",
     "iopub.status.busy": "2023-03-08T21:32:59.692989Z",
     "iopub.status.idle": "2023-03-08T21:32:59.700478Z",
     "shell.execute_reply": "2023-03-08T21:32:59.698726Z",
     "shell.execute_reply.started": "2023-03-08T21:32:59.693400Z"
    },
    "papermill": {
     "duration": 0.018199,
     "end_time": "2023-03-13T19:12:47.511889",
     "exception": false,
     "start_time": "2023-03-13T19:12:47.493690",
     "status": "completed"
    },
    "tags": []
   },
   "source": [
    "## Análisando os dados"
   ]
  },
  {
   "cell_type": "markdown",
   "id": "2fe902ba",
   "metadata": {
    "papermill": {
     "duration": 0.018738,
     "end_time": "2023-03-13T19:12:47.551317",
     "exception": false,
     "start_time": "2023-03-13T19:12:47.532579",
     "status": "completed"
    },
    "tags": []
   },
   "source": [
    "#### Taxa de sobrevivencia por sexo (0 = mulher, 1 = homem)"
   ]
  },
  {
   "cell_type": "code",
   "execution_count": 14,
   "id": "744397b4",
   "metadata": {
    "execution": {
     "iopub.execute_input": "2023-03-13T19:12:47.591792Z",
     "iopub.status.busy": "2023-03-13T19:12:47.591332Z",
     "iopub.status.idle": "2023-03-13T19:12:47.612484Z",
     "shell.execute_reply": "2023-03-13T19:12:47.611219Z"
    },
    "papermill": {
     "duration": 0.045307,
     "end_time": "2023-03-13T19:12:47.615818",
     "exception": false,
     "start_time": "2023-03-13T19:12:47.570511",
     "status": "completed"
    },
    "tags": []
   },
   "outputs": [
    {
     "data": {
      "text/html": [
       "<div>\n",
       "<style scoped>\n",
       "    .dataframe tbody tr th:only-of-type {\n",
       "        vertical-align: middle;\n",
       "    }\n",
       "\n",
       "    .dataframe tbody tr th {\n",
       "        vertical-align: top;\n",
       "    }\n",
       "\n",
       "    .dataframe thead th {\n",
       "        text-align: right;\n",
       "    }\n",
       "</style>\n",
       "<table border=\"1\" class=\"dataframe\">\n",
       "  <thead>\n",
       "    <tr style=\"text-align: right;\">\n",
       "      <th></th>\n",
       "      <th>Sex</th>\n",
       "      <th>Survived</th>\n",
       "    </tr>\n",
       "  </thead>\n",
       "  <tbody>\n",
       "    <tr>\n",
       "      <th>0</th>\n",
       "      <td>0</td>\n",
       "      <td>0.742038</td>\n",
       "    </tr>\n",
       "    <tr>\n",
       "      <th>1</th>\n",
       "      <td>1</td>\n",
       "      <td>0.188908</td>\n",
       "    </tr>\n",
       "  </tbody>\n",
       "</table>\n",
       "</div>"
      ],
      "text/plain": [
       "   Sex  Survived\n",
       "0    0  0.742038\n",
       "1    1  0.188908"
      ]
     },
     "execution_count": 14,
     "metadata": {},
     "output_type": "execute_result"
    }
   ],
   "source": [
    "traindf[['Sex', 'Survived']].groupby(['Sex'], as_index=False).mean().sort_values(by='Sex', ascending=True)\n"
   ]
  },
  {
   "cell_type": "markdown",
   "id": "e772a991",
   "metadata": {
    "papermill": {
     "duration": 0.018621,
     "end_time": "2023-03-13T19:12:47.652660",
     "exception": false,
     "start_time": "2023-03-13T19:12:47.634039",
     "status": "completed"
    },
    "tags": []
   },
   "source": [
    "Podemos observar que as mulheres tiveram prioridade na evacuação, o que levou a uma grande taxa de sobrevivência para o sexo feminino (74%)."
   ]
  },
  {
   "cell_type": "markdown",
   "id": "c6d78254",
   "metadata": {
    "papermill": {
     "duration": 0.021081,
     "end_time": "2023-03-13T19:12:47.694305",
     "exception": false,
     "start_time": "2023-03-13T19:12:47.673224",
     "status": "completed"
    },
    "tags": []
   },
   "source": [
    "#### Taxa de sobrevivencia por idade"
   ]
  },
  {
   "cell_type": "code",
   "execution_count": 15,
   "id": "48306a09",
   "metadata": {
    "execution": {
     "iopub.execute_input": "2023-03-13T19:12:47.733889Z",
     "iopub.status.busy": "2023-03-13T19:12:47.733375Z",
     "iopub.status.idle": "2023-03-13T19:12:47.764615Z",
     "shell.execute_reply": "2023-03-13T19:12:47.763470Z"
    },
    "papermill": {
     "duration": 0.055218,
     "end_time": "2023-03-13T19:12:47.768551",
     "exception": false,
     "start_time": "2023-03-13T19:12:47.713333",
     "status": "completed"
    },
    "tags": []
   },
   "outputs": [],
   "source": [
    "traindf['AgeBand'] = pd.cut(traindf['Age'], 5)\n",
    "traindf[['AgeBand', 'Survived']].groupby(['AgeBand'], as_index=False).mean().sort_values(by='AgeBand', ascending=True)\n",
    "\n",
    "testdf['AgeBand'] = pd.cut(traindf['Age'], 5)"
   ]
  },
  {
   "cell_type": "markdown",
   "id": "5706a9a4",
   "metadata": {
    "papermill": {
     "duration": 0.018814,
     "end_time": "2023-03-13T19:12:47.807876",
     "exception": false,
     "start_time": "2023-03-13T19:12:47.789062",
     "status": "completed"
    },
    "tags": []
   },
   "source": [
    "Podemos observar que, passageiros até 16 anos tiveram a maior taxa de sobrevivência (55%). Jovens adultos tiveram as menores taxas de sobrevivencia (34%). Senhores(as) de idade, tiveram uma taxa alta de sobrevivência (43%)."
   ]
  },
  {
   "cell_type": "markdown",
   "id": "2a32a587",
   "metadata": {
    "papermill": {
     "duration": 0.018091,
     "end_time": "2023-03-13T19:12:47.844163",
     "exception": false,
     "start_time": "2023-03-13T19:12:47.826072",
     "status": "completed"
    },
    "tags": []
   },
   "source": [
    "#### Taxa de sobrevivencia por classe (quanto menor, melhor a classe, maior valor pago)"
   ]
  },
  {
   "cell_type": "code",
   "execution_count": 16,
   "id": "b89cb085",
   "metadata": {
    "execution": {
     "iopub.execute_input": "2023-03-13T19:12:47.885169Z",
     "iopub.status.busy": "2023-03-13T19:12:47.884196Z",
     "iopub.status.idle": "2023-03-13T19:12:47.904890Z",
     "shell.execute_reply": "2023-03-13T19:12:47.903453Z"
    },
    "papermill": {
     "duration": 0.045901,
     "end_time": "2023-03-13T19:12:47.908493",
     "exception": false,
     "start_time": "2023-03-13T19:12:47.862592",
     "status": "completed"
    },
    "tags": []
   },
   "outputs": [
    {
     "data": {
      "text/html": [
       "<div>\n",
       "<style scoped>\n",
       "    .dataframe tbody tr th:only-of-type {\n",
       "        vertical-align: middle;\n",
       "    }\n",
       "\n",
       "    .dataframe tbody tr th {\n",
       "        vertical-align: top;\n",
       "    }\n",
       "\n",
       "    .dataframe thead th {\n",
       "        text-align: right;\n",
       "    }\n",
       "</style>\n",
       "<table border=\"1\" class=\"dataframe\">\n",
       "  <thead>\n",
       "    <tr style=\"text-align: right;\">\n",
       "      <th></th>\n",
       "      <th>Pclass</th>\n",
       "      <th>Survived</th>\n",
       "    </tr>\n",
       "  </thead>\n",
       "  <tbody>\n",
       "    <tr>\n",
       "      <th>0</th>\n",
       "      <td>1</td>\n",
       "      <td>0.629630</td>\n",
       "    </tr>\n",
       "    <tr>\n",
       "      <th>1</th>\n",
       "      <td>2</td>\n",
       "      <td>0.472826</td>\n",
       "    </tr>\n",
       "    <tr>\n",
       "      <th>2</th>\n",
       "      <td>3</td>\n",
       "      <td>0.242363</td>\n",
       "    </tr>\n",
       "  </tbody>\n",
       "</table>\n",
       "</div>"
      ],
      "text/plain": [
       "   Pclass  Survived\n",
       "0       1  0.629630\n",
       "1       2  0.472826\n",
       "2       3  0.242363"
      ]
     },
     "execution_count": 16,
     "metadata": {},
     "output_type": "execute_result"
    }
   ],
   "source": [
    "traindf[['Pclass', 'Survived']].groupby(['Pclass'], as_index=False).mean().sort_values(by='Pclass', ascending=True)"
   ]
  },
  {
   "cell_type": "markdown",
   "id": "b94e79ff",
   "metadata": {
    "papermill": {
     "duration": 0.01818,
     "end_time": "2023-03-13T19:12:47.946534",
     "exception": false,
     "start_time": "2023-03-13T19:12:47.928354",
     "status": "completed"
    },
    "tags": []
   },
   "source": [
    "Observamos que quanto maior a classe, maior foi a taxa de sobrevivência."
   ]
  },
  {
   "cell_type": "markdown",
   "id": "45ed2a40",
   "metadata": {
    "papermill": {
     "duration": 0.018469,
     "end_time": "2023-03-13T19:12:47.984021",
     "exception": false,
     "start_time": "2023-03-13T19:12:47.965552",
     "status": "completed"
    },
    "tags": []
   },
   "source": [
    "#### Taxa de sobrevivencia por tamanho da família"
   ]
  },
  {
   "cell_type": "code",
   "execution_count": 17,
   "id": "ae49a863",
   "metadata": {
    "execution": {
     "iopub.execute_input": "2023-03-13T19:12:48.024921Z",
     "iopub.status.busy": "2023-03-13T19:12:48.023947Z",
     "iopub.status.idle": "2023-03-13T19:12:48.044271Z",
     "shell.execute_reply": "2023-03-13T19:12:48.042641Z"
    },
    "papermill": {
     "duration": 0.0449,
     "end_time": "2023-03-13T19:12:48.047506",
     "exception": false,
     "start_time": "2023-03-13T19:12:48.002606",
     "status": "completed"
    },
    "tags": []
   },
   "outputs": [
    {
     "data": {
      "text/html": [
       "<div>\n",
       "<style scoped>\n",
       "    .dataframe tbody tr th:only-of-type {\n",
       "        vertical-align: middle;\n",
       "    }\n",
       "\n",
       "    .dataframe tbody tr th {\n",
       "        vertical-align: top;\n",
       "    }\n",
       "\n",
       "    .dataframe thead th {\n",
       "        text-align: right;\n",
       "    }\n",
       "</style>\n",
       "<table border=\"1\" class=\"dataframe\">\n",
       "  <thead>\n",
       "    <tr style=\"text-align: right;\">\n",
       "      <th></th>\n",
       "      <th>FamilySize</th>\n",
       "      <th>Survived</th>\n",
       "    </tr>\n",
       "  </thead>\n",
       "  <tbody>\n",
       "    <tr>\n",
       "      <th>0</th>\n",
       "      <td>1</td>\n",
       "      <td>0.303538</td>\n",
       "    </tr>\n",
       "    <tr>\n",
       "      <th>1</th>\n",
       "      <td>2</td>\n",
       "      <td>0.552795</td>\n",
       "    </tr>\n",
       "    <tr>\n",
       "      <th>2</th>\n",
       "      <td>3</td>\n",
       "      <td>0.578431</td>\n",
       "    </tr>\n",
       "    <tr>\n",
       "      <th>3</th>\n",
       "      <td>4</td>\n",
       "      <td>0.724138</td>\n",
       "    </tr>\n",
       "    <tr>\n",
       "      <th>4</th>\n",
       "      <td>5</td>\n",
       "      <td>0.200000</td>\n",
       "    </tr>\n",
       "    <tr>\n",
       "      <th>5</th>\n",
       "      <td>6</td>\n",
       "      <td>0.136364</td>\n",
       "    </tr>\n",
       "    <tr>\n",
       "      <th>6</th>\n",
       "      <td>7</td>\n",
       "      <td>0.333333</td>\n",
       "    </tr>\n",
       "    <tr>\n",
       "      <th>7</th>\n",
       "      <td>8</td>\n",
       "      <td>0.000000</td>\n",
       "    </tr>\n",
       "    <tr>\n",
       "      <th>8</th>\n",
       "      <td>11</td>\n",
       "      <td>0.000000</td>\n",
       "    </tr>\n",
       "  </tbody>\n",
       "</table>\n",
       "</div>"
      ],
      "text/plain": [
       "   FamilySize  Survived\n",
       "0           1  0.303538\n",
       "1           2  0.552795\n",
       "2           3  0.578431\n",
       "3           4  0.724138\n",
       "4           5  0.200000\n",
       "5           6  0.136364\n",
       "6           7  0.333333\n",
       "7           8  0.000000\n",
       "8          11  0.000000"
      ]
     },
     "execution_count": 17,
     "metadata": {},
     "output_type": "execute_result"
    }
   ],
   "source": [
    "traindf[['FamilySize', 'Survived']].groupby(['FamilySize'], as_index=False).mean().sort_values(by='FamilySize', ascending=True)"
   ]
  },
  {
   "cell_type": "markdown",
   "id": "a60f7a71",
   "metadata": {
    "papermill": {
     "duration": 0.01818,
     "end_time": "2023-03-13T19:12:48.084074",
     "exception": false,
     "start_time": "2023-03-13T19:12:48.065894",
     "status": "completed"
    },
    "tags": []
   },
   "source": [
    "#### Taxa de sobrevivencia acompanhado e sozinho (0 = acompanhado, 1 = sozinho)"
   ]
  },
  {
   "cell_type": "code",
   "execution_count": 18,
   "id": "ed032957",
   "metadata": {
    "execution": {
     "iopub.execute_input": "2023-03-13T19:12:48.128189Z",
     "iopub.status.busy": "2023-03-13T19:12:48.126787Z",
     "iopub.status.idle": "2023-03-13T19:12:48.143838Z",
     "shell.execute_reply": "2023-03-13T19:12:48.142411Z"
    },
    "papermill": {
     "duration": 0.041287,
     "end_time": "2023-03-13T19:12:48.146533",
     "exception": false,
     "start_time": "2023-03-13T19:12:48.105246",
     "status": "completed"
    },
    "tags": []
   },
   "outputs": [
    {
     "data": {
      "text/html": [
       "<div>\n",
       "<style scoped>\n",
       "    .dataframe tbody tr th:only-of-type {\n",
       "        vertical-align: middle;\n",
       "    }\n",
       "\n",
       "    .dataframe tbody tr th {\n",
       "        vertical-align: top;\n",
       "    }\n",
       "\n",
       "    .dataframe thead th {\n",
       "        text-align: right;\n",
       "    }\n",
       "</style>\n",
       "<table border=\"1\" class=\"dataframe\">\n",
       "  <thead>\n",
       "    <tr style=\"text-align: right;\">\n",
       "      <th></th>\n",
       "      <th>IsAlone</th>\n",
       "      <th>Survived</th>\n",
       "    </tr>\n",
       "  </thead>\n",
       "  <tbody>\n",
       "    <tr>\n",
       "      <th>0</th>\n",
       "      <td>0</td>\n",
       "      <td>0.505650</td>\n",
       "    </tr>\n",
       "    <tr>\n",
       "      <th>1</th>\n",
       "      <td>1</td>\n",
       "      <td>0.303538</td>\n",
       "    </tr>\n",
       "  </tbody>\n",
       "</table>\n",
       "</div>"
      ],
      "text/plain": [
       "   IsAlone  Survived\n",
       "0        0  0.505650\n",
       "1        1  0.303538"
      ]
     },
     "execution_count": 18,
     "metadata": {},
     "output_type": "execute_result"
    }
   ],
   "source": [
    "traindf[['IsAlone', 'Survived']].groupby(['IsAlone'], as_index=False).mean().sort_values(by='IsAlone', ascending=True)"
   ]
  },
  {
   "cell_type": "markdown",
   "id": "ed64218c",
   "metadata": {
    "papermill": {
     "duration": 0.018946,
     "end_time": "2023-03-13T19:12:48.184233",
     "exception": false,
     "start_time": "2023-03-13T19:12:48.165287",
     "status": "completed"
    },
    "tags": []
   },
   "source": [
    "Pessoas acompanhadas tiveram a taxa de sobrevivência maior do que as que estavam sozinhas"
   ]
  },
  {
   "cell_type": "code",
   "execution_count": 19,
   "id": "f23b5b8b",
   "metadata": {
    "execution": {
     "iopub.execute_input": "2023-03-13T19:12:48.223048Z",
     "iopub.status.busy": "2023-03-13T19:12:48.222541Z",
     "iopub.status.idle": "2023-03-13T19:12:48.242347Z",
     "shell.execute_reply": "2023-03-13T19:12:48.240391Z"
    },
    "papermill": {
     "duration": 0.042376,
     "end_time": "2023-03-13T19:12:48.245068",
     "exception": false,
     "start_time": "2023-03-13T19:12:48.202692",
     "status": "completed"
    },
    "tags": []
   },
   "outputs": [
    {
     "data": {
      "text/html": [
       "<div>\n",
       "<style scoped>\n",
       "    .dataframe tbody tr th:only-of-type {\n",
       "        vertical-align: middle;\n",
       "    }\n",
       "\n",
       "    .dataframe tbody tr th {\n",
       "        vertical-align: top;\n",
       "    }\n",
       "\n",
       "    .dataframe thead th {\n",
       "        text-align: right;\n",
       "    }\n",
       "</style>\n",
       "<table border=\"1\" class=\"dataframe\">\n",
       "  <thead>\n",
       "    <tr style=\"text-align: right;\">\n",
       "      <th></th>\n",
       "      <th>Age_band</th>\n",
       "      <th>Survived</th>\n",
       "    </tr>\n",
       "  </thead>\n",
       "  <tbody>\n",
       "    <tr>\n",
       "      <th>0</th>\n",
       "      <td>0</td>\n",
       "      <td>0.377600</td>\n",
       "    </tr>\n",
       "    <tr>\n",
       "      <th>1</th>\n",
       "      <td>2</td>\n",
       "      <td>0.403226</td>\n",
       "    </tr>\n",
       "    <tr>\n",
       "      <th>2</th>\n",
       "      <td>3</td>\n",
       "      <td>0.434783</td>\n",
       "    </tr>\n",
       "    <tr>\n",
       "      <th>3</th>\n",
       "      <td>4</td>\n",
       "      <td>0.090909</td>\n",
       "    </tr>\n",
       "  </tbody>\n",
       "</table>\n",
       "</div>"
      ],
      "text/plain": [
       "   Age_band  Survived\n",
       "0         0  0.377600\n",
       "1         2  0.403226\n",
       "2         3  0.434783\n",
       "3         4  0.090909"
      ]
     },
     "execution_count": 19,
     "metadata": {},
     "output_type": "execute_result"
    }
   ],
   "source": [
    "traindf[['Age_band', 'Survived']].groupby(['Age_band'], as_index=False).mean().sort_values(by='Age_band', ascending=True)"
   ]
  },
  {
   "cell_type": "markdown",
   "id": "305edb16",
   "metadata": {
    "papermill": {
     "duration": 0.020409,
     "end_time": "2023-03-13T19:12:48.285295",
     "exception": false,
     "start_time": "2023-03-13T19:12:48.264886",
     "status": "completed"
    },
    "tags": []
   },
   "source": [
    "Passageiros de 48 a 64 anos tiveram a maior taxa de sobrevivência\n"
   ]
  },
  {
   "cell_type": "code",
   "execution_count": 20,
   "id": "b91a11c9",
   "metadata": {
    "execution": {
     "iopub.execute_input": "2023-03-13T19:12:48.327281Z",
     "iopub.status.busy": "2023-03-13T19:12:48.326727Z",
     "iopub.status.idle": "2023-03-13T19:12:48.350562Z",
     "shell.execute_reply": "2023-03-13T19:12:48.349035Z"
    },
    "papermill": {
     "duration": 0.049172,
     "end_time": "2023-03-13T19:12:48.354195",
     "exception": false,
     "start_time": "2023-03-13T19:12:48.305023",
     "status": "completed"
    },
    "tags": []
   },
   "outputs": [
    {
     "data": {
      "text/html": [
       "<div>\n",
       "<style scoped>\n",
       "    .dataframe tbody tr th:only-of-type {\n",
       "        vertical-align: middle;\n",
       "    }\n",
       "\n",
       "    .dataframe tbody tr th {\n",
       "        vertical-align: top;\n",
       "    }\n",
       "\n",
       "    .dataframe thead th {\n",
       "        text-align: right;\n",
       "    }\n",
       "</style>\n",
       "<table border=\"1\" class=\"dataframe\">\n",
       "  <thead>\n",
       "    <tr style=\"text-align: right;\">\n",
       "      <th></th>\n",
       "      <th>PassengerId</th>\n",
       "      <th>Survived</th>\n",
       "      <th>Pclass</th>\n",
       "      <th>Sex</th>\n",
       "      <th>Age</th>\n",
       "      <th>SibSp</th>\n",
       "      <th>Parch</th>\n",
       "      <th>Fare</th>\n",
       "      <th>FamilySize</th>\n",
       "      <th>IsAlone</th>\n",
       "      <th>Age_band</th>\n",
       "    </tr>\n",
       "  </thead>\n",
       "  <tbody>\n",
       "    <tr>\n",
       "      <th>0</th>\n",
       "      <td>1</td>\n",
       "      <td>0</td>\n",
       "      <td>3</td>\n",
       "      <td>1</td>\n",
       "      <td>22</td>\n",
       "      <td>1</td>\n",
       "      <td>0</td>\n",
       "      <td>7.2500</td>\n",
       "      <td>2</td>\n",
       "      <td>0</td>\n",
       "      <td>0</td>\n",
       "    </tr>\n",
       "    <tr>\n",
       "      <th>1</th>\n",
       "      <td>2</td>\n",
       "      <td>1</td>\n",
       "      <td>1</td>\n",
       "      <td>0</td>\n",
       "      <td>38</td>\n",
       "      <td>1</td>\n",
       "      <td>0</td>\n",
       "      <td>71.2833</td>\n",
       "      <td>2</td>\n",
       "      <td>0</td>\n",
       "      <td>2</td>\n",
       "    </tr>\n",
       "    <tr>\n",
       "      <th>2</th>\n",
       "      <td>3</td>\n",
       "      <td>1</td>\n",
       "      <td>3</td>\n",
       "      <td>0</td>\n",
       "      <td>26</td>\n",
       "      <td>0</td>\n",
       "      <td>0</td>\n",
       "      <td>7.9250</td>\n",
       "      <td>1</td>\n",
       "      <td>1</td>\n",
       "      <td>0</td>\n",
       "    </tr>\n",
       "    <tr>\n",
       "      <th>3</th>\n",
       "      <td>4</td>\n",
       "      <td>1</td>\n",
       "      <td>1</td>\n",
       "      <td>0</td>\n",
       "      <td>35</td>\n",
       "      <td>1</td>\n",
       "      <td>0</td>\n",
       "      <td>53.1000</td>\n",
       "      <td>2</td>\n",
       "      <td>0</td>\n",
       "      <td>2</td>\n",
       "    </tr>\n",
       "    <tr>\n",
       "      <th>4</th>\n",
       "      <td>5</td>\n",
       "      <td>0</td>\n",
       "      <td>3</td>\n",
       "      <td>1</td>\n",
       "      <td>35</td>\n",
       "      <td>0</td>\n",
       "      <td>0</td>\n",
       "      <td>8.0500</td>\n",
       "      <td>1</td>\n",
       "      <td>1</td>\n",
       "      <td>2</td>\n",
       "    </tr>\n",
       "    <tr>\n",
       "      <th>...</th>\n",
       "      <td>...</td>\n",
       "      <td>...</td>\n",
       "      <td>...</td>\n",
       "      <td>...</td>\n",
       "      <td>...</td>\n",
       "      <td>...</td>\n",
       "      <td>...</td>\n",
       "      <td>...</td>\n",
       "      <td>...</td>\n",
       "      <td>...</td>\n",
       "      <td>...</td>\n",
       "    </tr>\n",
       "    <tr>\n",
       "      <th>886</th>\n",
       "      <td>887</td>\n",
       "      <td>0</td>\n",
       "      <td>2</td>\n",
       "      <td>1</td>\n",
       "      <td>27</td>\n",
       "      <td>0</td>\n",
       "      <td>0</td>\n",
       "      <td>13.0000</td>\n",
       "      <td>1</td>\n",
       "      <td>1</td>\n",
       "      <td>0</td>\n",
       "    </tr>\n",
       "    <tr>\n",
       "      <th>887</th>\n",
       "      <td>888</td>\n",
       "      <td>1</td>\n",
       "      <td>1</td>\n",
       "      <td>0</td>\n",
       "      <td>19</td>\n",
       "      <td>0</td>\n",
       "      <td>0</td>\n",
       "      <td>30.0000</td>\n",
       "      <td>1</td>\n",
       "      <td>1</td>\n",
       "      <td>0</td>\n",
       "    </tr>\n",
       "    <tr>\n",
       "      <th>888</th>\n",
       "      <td>889</td>\n",
       "      <td>0</td>\n",
       "      <td>3</td>\n",
       "      <td>0</td>\n",
       "      <td>28</td>\n",
       "      <td>1</td>\n",
       "      <td>2</td>\n",
       "      <td>23.4500</td>\n",
       "      <td>4</td>\n",
       "      <td>0</td>\n",
       "      <td>0</td>\n",
       "    </tr>\n",
       "    <tr>\n",
       "      <th>889</th>\n",
       "      <td>890</td>\n",
       "      <td>1</td>\n",
       "      <td>1</td>\n",
       "      <td>1</td>\n",
       "      <td>26</td>\n",
       "      <td>0</td>\n",
       "      <td>0</td>\n",
       "      <td>30.0000</td>\n",
       "      <td>1</td>\n",
       "      <td>1</td>\n",
       "      <td>0</td>\n",
       "    </tr>\n",
       "    <tr>\n",
       "      <th>890</th>\n",
       "      <td>891</td>\n",
       "      <td>0</td>\n",
       "      <td>3</td>\n",
       "      <td>1</td>\n",
       "      <td>32</td>\n",
       "      <td>0</td>\n",
       "      <td>0</td>\n",
       "      <td>7.7500</td>\n",
       "      <td>1</td>\n",
       "      <td>1</td>\n",
       "      <td>0</td>\n",
       "    </tr>\n",
       "  </tbody>\n",
       "</table>\n",
       "<p>891 rows × 11 columns</p>\n",
       "</div>"
      ],
      "text/plain": [
       "     PassengerId  Survived  Pclass  Sex  Age  SibSp  Parch     Fare  \\\n",
       "0              1         0       3    1   22      1      0   7.2500   \n",
       "1              2         1       1    0   38      1      0  71.2833   \n",
       "2              3         1       3    0   26      0      0   7.9250   \n",
       "3              4         1       1    0   35      1      0  53.1000   \n",
       "4              5         0       3    1   35      0      0   8.0500   \n",
       "..           ...       ...     ...  ...  ...    ...    ...      ...   \n",
       "886          887         0       2    1   27      0      0  13.0000   \n",
       "887          888         1       1    0   19      0      0  30.0000   \n",
       "888          889         0       3    0   28      1      2  23.4500   \n",
       "889          890         1       1    1   26      0      0  30.0000   \n",
       "890          891         0       3    1   32      0      0   7.7500   \n",
       "\n",
       "     FamilySize  IsAlone  Age_band  \n",
       "0             2        0         0  \n",
       "1             2        0         2  \n",
       "2             1        1         0  \n",
       "3             2        0         2  \n",
       "4             1        1         2  \n",
       "..          ...      ...       ...  \n",
       "886           1        1         0  \n",
       "887           1        1         0  \n",
       "888           4        0         0  \n",
       "889           1        1         0  \n",
       "890           1        1         0  \n",
       "\n",
       "[891 rows x 11 columns]"
      ]
     },
     "execution_count": 20,
     "metadata": {},
     "output_type": "execute_result"
    }
   ],
   "source": [
    "# Removemos as colunas desnecessárias para aplicação o modelo de ML.\n",
    "traindf2 = traindf.drop(['Ticket', 'Cabin', 'Name','Embarked', 'AgeBand'], axis=1)\n",
    "traindf2"
   ]
  },
  {
   "cell_type": "code",
   "execution_count": 21,
   "id": "6e3014bd",
   "metadata": {
    "execution": {
     "iopub.execute_input": "2023-03-13T19:12:48.398303Z",
     "iopub.status.busy": "2023-03-13T19:12:48.397712Z",
     "iopub.status.idle": "2023-03-13T19:12:48.419943Z",
     "shell.execute_reply": "2023-03-13T19:12:48.418996Z"
    },
    "papermill": {
     "duration": 0.047423,
     "end_time": "2023-03-13T19:12:48.422291",
     "exception": false,
     "start_time": "2023-03-13T19:12:48.374868",
     "status": "completed"
    },
    "tags": []
   },
   "outputs": [
    {
     "data": {
      "text/html": [
       "<div>\n",
       "<style scoped>\n",
       "    .dataframe tbody tr th:only-of-type {\n",
       "        vertical-align: middle;\n",
       "    }\n",
       "\n",
       "    .dataframe tbody tr th {\n",
       "        vertical-align: top;\n",
       "    }\n",
       "\n",
       "    .dataframe thead th {\n",
       "        text-align: right;\n",
       "    }\n",
       "</style>\n",
       "<table border=\"1\" class=\"dataframe\">\n",
       "  <thead>\n",
       "    <tr style=\"text-align: right;\">\n",
       "      <th></th>\n",
       "      <th>PassengerId</th>\n",
       "      <th>Pclass</th>\n",
       "      <th>Sex</th>\n",
       "      <th>Age</th>\n",
       "      <th>SibSp</th>\n",
       "      <th>Parch</th>\n",
       "      <th>Fare</th>\n",
       "      <th>FamilySize</th>\n",
       "      <th>IsAlone</th>\n",
       "      <th>Age_band</th>\n",
       "    </tr>\n",
       "  </thead>\n",
       "  <tbody>\n",
       "    <tr>\n",
       "      <th>0</th>\n",
       "      <td>892</td>\n",
       "      <td>3</td>\n",
       "      <td>1</td>\n",
       "      <td>34</td>\n",
       "      <td>0</td>\n",
       "      <td>0</td>\n",
       "      <td>7.8292</td>\n",
       "      <td>1</td>\n",
       "      <td>1</td>\n",
       "      <td>2</td>\n",
       "    </tr>\n",
       "    <tr>\n",
       "      <th>1</th>\n",
       "      <td>893</td>\n",
       "      <td>3</td>\n",
       "      <td>0</td>\n",
       "      <td>47</td>\n",
       "      <td>1</td>\n",
       "      <td>0</td>\n",
       "      <td>7.0000</td>\n",
       "      <td>2</td>\n",
       "      <td>0</td>\n",
       "      <td>2</td>\n",
       "    </tr>\n",
       "    <tr>\n",
       "      <th>2</th>\n",
       "      <td>894</td>\n",
       "      <td>2</td>\n",
       "      <td>1</td>\n",
       "      <td>62</td>\n",
       "      <td>0</td>\n",
       "      <td>0</td>\n",
       "      <td>9.6875</td>\n",
       "      <td>1</td>\n",
       "      <td>1</td>\n",
       "      <td>3</td>\n",
       "    </tr>\n",
       "    <tr>\n",
       "      <th>3</th>\n",
       "      <td>895</td>\n",
       "      <td>3</td>\n",
       "      <td>1</td>\n",
       "      <td>27</td>\n",
       "      <td>0</td>\n",
       "      <td>0</td>\n",
       "      <td>8.6625</td>\n",
       "      <td>1</td>\n",
       "      <td>1</td>\n",
       "      <td>0</td>\n",
       "    </tr>\n",
       "    <tr>\n",
       "      <th>4</th>\n",
       "      <td>896</td>\n",
       "      <td>3</td>\n",
       "      <td>0</td>\n",
       "      <td>22</td>\n",
       "      <td>1</td>\n",
       "      <td>1</td>\n",
       "      <td>12.2875</td>\n",
       "      <td>3</td>\n",
       "      <td>0</td>\n",
       "      <td>0</td>\n",
       "    </tr>\n",
       "    <tr>\n",
       "      <th>...</th>\n",
       "      <td>...</td>\n",
       "      <td>...</td>\n",
       "      <td>...</td>\n",
       "      <td>...</td>\n",
       "      <td>...</td>\n",
       "      <td>...</td>\n",
       "      <td>...</td>\n",
       "      <td>...</td>\n",
       "      <td>...</td>\n",
       "      <td>...</td>\n",
       "    </tr>\n",
       "    <tr>\n",
       "      <th>413</th>\n",
       "      <td>1305</td>\n",
       "      <td>3</td>\n",
       "      <td>1</td>\n",
       "      <td>27</td>\n",
       "      <td>0</td>\n",
       "      <td>0</td>\n",
       "      <td>8.0500</td>\n",
       "      <td>1</td>\n",
       "      <td>1</td>\n",
       "      <td>0</td>\n",
       "    </tr>\n",
       "    <tr>\n",
       "      <th>414</th>\n",
       "      <td>1306</td>\n",
       "      <td>1</td>\n",
       "      <td>0</td>\n",
       "      <td>39</td>\n",
       "      <td>0</td>\n",
       "      <td>0</td>\n",
       "      <td>108.9000</td>\n",
       "      <td>1</td>\n",
       "      <td>1</td>\n",
       "      <td>2</td>\n",
       "    </tr>\n",
       "    <tr>\n",
       "      <th>415</th>\n",
       "      <td>1307</td>\n",
       "      <td>3</td>\n",
       "      <td>1</td>\n",
       "      <td>38</td>\n",
       "      <td>0</td>\n",
       "      <td>0</td>\n",
       "      <td>7.2500</td>\n",
       "      <td>1</td>\n",
       "      <td>1</td>\n",
       "      <td>2</td>\n",
       "    </tr>\n",
       "    <tr>\n",
       "      <th>416</th>\n",
       "      <td>1308</td>\n",
       "      <td>3</td>\n",
       "      <td>1</td>\n",
       "      <td>27</td>\n",
       "      <td>0</td>\n",
       "      <td>0</td>\n",
       "      <td>8.0500</td>\n",
       "      <td>1</td>\n",
       "      <td>1</td>\n",
       "      <td>0</td>\n",
       "    </tr>\n",
       "    <tr>\n",
       "      <th>417</th>\n",
       "      <td>1309</td>\n",
       "      <td>3</td>\n",
       "      <td>1</td>\n",
       "      <td>27</td>\n",
       "      <td>1</td>\n",
       "      <td>1</td>\n",
       "      <td>22.3583</td>\n",
       "      <td>3</td>\n",
       "      <td>0</td>\n",
       "      <td>0</td>\n",
       "    </tr>\n",
       "  </tbody>\n",
       "</table>\n",
       "<p>418 rows × 10 columns</p>\n",
       "</div>"
      ],
      "text/plain": [
       "     PassengerId  Pclass  Sex  Age  SibSp  Parch      Fare  FamilySize  \\\n",
       "0            892       3    1   34      0      0    7.8292           1   \n",
       "1            893       3    0   47      1      0    7.0000           2   \n",
       "2            894       2    1   62      0      0    9.6875           1   \n",
       "3            895       3    1   27      0      0    8.6625           1   \n",
       "4            896       3    0   22      1      1   12.2875           3   \n",
       "..           ...     ...  ...  ...    ...    ...       ...         ...   \n",
       "413         1305       3    1   27      0      0    8.0500           1   \n",
       "414         1306       1    0   39      0      0  108.9000           1   \n",
       "415         1307       3    1   38      0      0    7.2500           1   \n",
       "416         1308       3    1   27      0      0    8.0500           1   \n",
       "417         1309       3    1   27      1      1   22.3583           3   \n",
       "\n",
       "     IsAlone  Age_band  \n",
       "0          1         2  \n",
       "1          0         2  \n",
       "2          1         3  \n",
       "3          1         0  \n",
       "4          0         0  \n",
       "..       ...       ...  \n",
       "413        1         0  \n",
       "414        1         2  \n",
       "415        1         2  \n",
       "416        1         0  \n",
       "417        0         0  \n",
       "\n",
       "[418 rows x 10 columns]"
      ]
     },
     "execution_count": 21,
     "metadata": {},
     "output_type": "execute_result"
    }
   ],
   "source": [
    "testdf2 = testdf.drop(['Ticket', 'Cabin', 'Name','Embarked','AgeBand'], axis=1)\n",
    "testdf2"
   ]
  },
  {
   "cell_type": "code",
   "execution_count": 22,
   "id": "bbbcb6fa",
   "metadata": {
    "execution": {
     "iopub.execute_input": "2023-03-13T19:12:48.463686Z",
     "iopub.status.busy": "2023-03-13T19:12:48.463276Z",
     "iopub.status.idle": "2023-03-13T19:12:48.482845Z",
     "shell.execute_reply": "2023-03-13T19:12:48.481542Z"
    },
    "papermill": {
     "duration": 0.04523,
     "end_time": "2023-03-13T19:12:48.486331",
     "exception": false,
     "start_time": "2023-03-13T19:12:48.441101",
     "status": "completed"
    },
    "tags": []
   },
   "outputs": [
    {
     "data": {
      "text/html": [
       "<div>\n",
       "<style scoped>\n",
       "    .dataframe tbody tr th:only-of-type {\n",
       "        vertical-align: middle;\n",
       "    }\n",
       "\n",
       "    .dataframe tbody tr th {\n",
       "        vertical-align: top;\n",
       "    }\n",
       "\n",
       "    .dataframe thead th {\n",
       "        text-align: right;\n",
       "    }\n",
       "</style>\n",
       "<table border=\"1\" class=\"dataframe\">\n",
       "  <thead>\n",
       "    <tr style=\"text-align: right;\">\n",
       "      <th></th>\n",
       "      <th>PassengerId</th>\n",
       "      <th>Pclass</th>\n",
       "      <th>Sex</th>\n",
       "      <th>Age</th>\n",
       "      <th>SibSp</th>\n",
       "      <th>Parch</th>\n",
       "      <th>Fare</th>\n",
       "      <th>FamilySize</th>\n",
       "      <th>IsAlone</th>\n",
       "      <th>Age_band</th>\n",
       "    </tr>\n",
       "  </thead>\n",
       "  <tbody>\n",
       "    <tr>\n",
       "      <th>0</th>\n",
       "      <td>892</td>\n",
       "      <td>3</td>\n",
       "      <td>1</td>\n",
       "      <td>34</td>\n",
       "      <td>0</td>\n",
       "      <td>0</td>\n",
       "      <td>7.8292</td>\n",
       "      <td>1</td>\n",
       "      <td>1</td>\n",
       "      <td>2</td>\n",
       "    </tr>\n",
       "    <tr>\n",
       "      <th>1</th>\n",
       "      <td>893</td>\n",
       "      <td>3</td>\n",
       "      <td>0</td>\n",
       "      <td>47</td>\n",
       "      <td>1</td>\n",
       "      <td>0</td>\n",
       "      <td>7.0000</td>\n",
       "      <td>2</td>\n",
       "      <td>0</td>\n",
       "      <td>2</td>\n",
       "    </tr>\n",
       "    <tr>\n",
       "      <th>2</th>\n",
       "      <td>894</td>\n",
       "      <td>2</td>\n",
       "      <td>1</td>\n",
       "      <td>62</td>\n",
       "      <td>0</td>\n",
       "      <td>0</td>\n",
       "      <td>9.6875</td>\n",
       "      <td>1</td>\n",
       "      <td>1</td>\n",
       "      <td>3</td>\n",
       "    </tr>\n",
       "    <tr>\n",
       "      <th>3</th>\n",
       "      <td>895</td>\n",
       "      <td>3</td>\n",
       "      <td>1</td>\n",
       "      <td>27</td>\n",
       "      <td>0</td>\n",
       "      <td>0</td>\n",
       "      <td>8.6625</td>\n",
       "      <td>1</td>\n",
       "      <td>1</td>\n",
       "      <td>0</td>\n",
       "    </tr>\n",
       "    <tr>\n",
       "      <th>4</th>\n",
       "      <td>896</td>\n",
       "      <td>3</td>\n",
       "      <td>0</td>\n",
       "      <td>22</td>\n",
       "      <td>1</td>\n",
       "      <td>1</td>\n",
       "      <td>12.2875</td>\n",
       "      <td>3</td>\n",
       "      <td>0</td>\n",
       "      <td>0</td>\n",
       "    </tr>\n",
       "    <tr>\n",
       "      <th>...</th>\n",
       "      <td>...</td>\n",
       "      <td>...</td>\n",
       "      <td>...</td>\n",
       "      <td>...</td>\n",
       "      <td>...</td>\n",
       "      <td>...</td>\n",
       "      <td>...</td>\n",
       "      <td>...</td>\n",
       "      <td>...</td>\n",
       "      <td>...</td>\n",
       "    </tr>\n",
       "    <tr>\n",
       "      <th>413</th>\n",
       "      <td>1305</td>\n",
       "      <td>3</td>\n",
       "      <td>1</td>\n",
       "      <td>27</td>\n",
       "      <td>0</td>\n",
       "      <td>0</td>\n",
       "      <td>8.0500</td>\n",
       "      <td>1</td>\n",
       "      <td>1</td>\n",
       "      <td>0</td>\n",
       "    </tr>\n",
       "    <tr>\n",
       "      <th>414</th>\n",
       "      <td>1306</td>\n",
       "      <td>1</td>\n",
       "      <td>0</td>\n",
       "      <td>39</td>\n",
       "      <td>0</td>\n",
       "      <td>0</td>\n",
       "      <td>108.9000</td>\n",
       "      <td>1</td>\n",
       "      <td>1</td>\n",
       "      <td>2</td>\n",
       "    </tr>\n",
       "    <tr>\n",
       "      <th>415</th>\n",
       "      <td>1307</td>\n",
       "      <td>3</td>\n",
       "      <td>1</td>\n",
       "      <td>38</td>\n",
       "      <td>0</td>\n",
       "      <td>0</td>\n",
       "      <td>7.2500</td>\n",
       "      <td>1</td>\n",
       "      <td>1</td>\n",
       "      <td>2</td>\n",
       "    </tr>\n",
       "    <tr>\n",
       "      <th>416</th>\n",
       "      <td>1308</td>\n",
       "      <td>3</td>\n",
       "      <td>1</td>\n",
       "      <td>27</td>\n",
       "      <td>0</td>\n",
       "      <td>0</td>\n",
       "      <td>8.0500</td>\n",
       "      <td>1</td>\n",
       "      <td>1</td>\n",
       "      <td>0</td>\n",
       "    </tr>\n",
       "    <tr>\n",
       "      <th>417</th>\n",
       "      <td>1309</td>\n",
       "      <td>3</td>\n",
       "      <td>1</td>\n",
       "      <td>27</td>\n",
       "      <td>1</td>\n",
       "      <td>1</td>\n",
       "      <td>22.3583</td>\n",
       "      <td>3</td>\n",
       "      <td>0</td>\n",
       "      <td>0</td>\n",
       "    </tr>\n",
       "  </tbody>\n",
       "</table>\n",
       "<p>418 rows × 10 columns</p>\n",
       "</div>"
      ],
      "text/plain": [
       "     PassengerId  Pclass  Sex  Age  SibSp  Parch      Fare  FamilySize  \\\n",
       "0            892       3    1   34      0      0    7.8292           1   \n",
       "1            893       3    0   47      1      0    7.0000           2   \n",
       "2            894       2    1   62      0      0    9.6875           1   \n",
       "3            895       3    1   27      0      0    8.6625           1   \n",
       "4            896       3    0   22      1      1   12.2875           3   \n",
       "..           ...     ...  ...  ...    ...    ...       ...         ...   \n",
       "413         1305       3    1   27      0      0    8.0500           1   \n",
       "414         1306       1    0   39      0      0  108.9000           1   \n",
       "415         1307       3    1   38      0      0    7.2500           1   \n",
       "416         1308       3    1   27      0      0    8.0500           1   \n",
       "417         1309       3    1   27      1      1   22.3583           3   \n",
       "\n",
       "     IsAlone  Age_band  \n",
       "0          1         2  \n",
       "1          0         2  \n",
       "2          1         3  \n",
       "3          1         0  \n",
       "4          0         0  \n",
       "..       ...       ...  \n",
       "413        1         0  \n",
       "414        1         2  \n",
       "415        1         2  \n",
       "416        1         0  \n",
       "417        0         0  \n",
       "\n",
       "[418 rows x 10 columns]"
      ]
     },
     "execution_count": 22,
     "metadata": {},
     "output_type": "execute_result"
    }
   ],
   "source": [
    "testdf2"
   ]
  },
  {
   "cell_type": "code",
   "execution_count": 23,
   "id": "014812e4",
   "metadata": {
    "execution": {
     "iopub.execute_input": "2023-03-13T19:12:48.531493Z",
     "iopub.status.busy": "2023-03-13T19:12:48.530882Z",
     "iopub.status.idle": "2023-03-13T19:12:49.718141Z",
     "shell.execute_reply": "2023-03-13T19:12:49.716627Z"
    },
    "papermill": {
     "duration": 1.213068,
     "end_time": "2023-03-13T19:12:49.721513",
     "exception": false,
     "start_time": "2023-03-13T19:12:48.508445",
     "status": "completed"
    },
    "tags": []
   },
   "outputs": [
    {
     "data": {
      "text/plain": [
       "<AxesSubplot:>"
      ]
     },
     "execution_count": 23,
     "metadata": {},
     "output_type": "execute_result"
    },
    {
     "data": {
      "image/png": "[encoded data removed]",
      "text/plain": [
       "<Figure size 1600x1200 with 2 Axes>"
      ]
     },
     "metadata": {},
     "output_type": "display_data"
    }
   ],
   "source": [
    "plt.figure(figsize=(16,12))\n",
    "sns.heatmap(traindf.corr(),annot=True,fmt=\".2f\")"
   ]
  },
  {
   "cell_type": "code",
   "execution_count": 24,
   "id": "d5e36d02",
   "metadata": {
    "execution": {
     "iopub.execute_input": "2023-03-13T19:12:49.770547Z",
     "iopub.status.busy": "2023-03-13T19:12:49.768987Z",
     "iopub.status.idle": "2023-03-13T19:12:49.999079Z",
     "shell.execute_reply": "2023-03-13T19:12:49.997696Z"
    },
    "papermill": {
     "duration": 0.25724,
     "end_time": "2023-03-13T19:12:50.002164",
     "exception": false,
     "start_time": "2023-03-13T19:12:49.744924",
     "status": "completed"
    },
    "tags": []
   },
   "outputs": [
    {
     "data": {
      "text/plain": [
       "Text(0.5, 1.0, 'Não Sobreviventes x Sobreviventes')"
      ]
     },
     "execution_count": 24,
     "metadata": {},
     "output_type": "execute_result"
    },
    {
     "data": {
      "image/png": "[encoded data removed]",
      "text/plain": [
       "<Figure size 640x480 with 1 Axes>"
      ]
     },
     "metadata": {},
     "output_type": "display_data"
    }
   ],
   "source": [
    "\n",
    "ax = sns.countplot(x='Survived', data = traindf)\n",
    "ax.set_title('Não Sobreviventes x Sobreviventes')"
   ]
  },
  {
   "cell_type": "code",
   "execution_count": 25,
   "id": "b5280ff2",
   "metadata": {
    "execution": {
     "iopub.execute_input": "2023-03-13T19:12:50.047640Z",
     "iopub.status.busy": "2023-03-13T19:12:50.047199Z",
     "iopub.status.idle": "2023-03-13T19:12:50.433295Z",
     "shell.execute_reply": "2023-03-13T19:12:50.431624Z"
    },
    "papermill": {
     "duration": 0.41248,
     "end_time": "2023-03-13T19:12:50.436067",
     "exception": false,
     "start_time": "2023-03-13T19:12:50.023587",
     "status": "completed"
    },
    "tags": []
   },
   "outputs": [
    {
     "data": {
      "image/png": "[encoded data removed]",
      "text/plain": [
       "<Figure size 1000x500 with 2 Axes>"
      ]
     },
     "metadata": {},
     "output_type": "display_data"
    }
   ],
   "source": [
    "f,ax = plt.subplots(1,2,figsize=(10,5))\n",
    "\n",
    "traindf['Survived'].value_counts().plot.pie(explode=[0,0.1],autopct='%1.1f%%',ax=ax[0],shadow=True)\n",
    "ax[0].set_title('Sobreviventes x Não Sobreviventes')\n",
    "\n",
    "sns.countplot(data=traindf, x = traindf['Survived'], ax=ax[1])\n",
    "ax[1].set_title('Não Sobreviventes x Sobreviventes')\n",
    "\n",
    "plt.show()"
   ]
  },
  {
   "cell_type": "code",
   "execution_count": 26,
   "id": "e5854bd4",
   "metadata": {
    "execution": {
     "iopub.execute_input": "2023-03-13T19:12:50.486173Z",
     "iopub.status.busy": "2023-03-13T19:12:50.485696Z",
     "iopub.status.idle": "2023-03-13T19:12:50.495739Z",
     "shell.execute_reply": "2023-03-13T19:12:50.494399Z"
    },
    "papermill": {
     "duration": 0.039122,
     "end_time": "2023-03-13T19:12:50.498360",
     "exception": false,
     "start_time": "2023-03-13T19:12:50.459238",
     "status": "completed"
    },
    "tags": []
   },
   "outputs": [
    {
     "data": {
      "text/plain": [
       "0    549\n",
       "1    342\n",
       "Name: Survived, dtype: int64"
      ]
     },
     "execution_count": 26,
     "metadata": {},
     "output_type": "execute_result"
    }
   ],
   "source": [
    "incidentes = traindf['Survived'].value_counts()\n",
    "incidentes"
   ]
  },
  {
   "cell_type": "markdown",
   "id": "f4813159",
   "metadata": {
    "execution": {
     "iopub.execute_input": "2023-03-08T17:20:11.758011Z",
     "iopub.status.busy": "2023-03-08T17:20:11.757568Z",
     "iopub.status.idle": "2023-03-08T17:20:11.767660Z",
     "shell.execute_reply": "2023-03-08T17:20:11.766203Z",
     "shell.execute_reply.started": "2023-03-08T17:20:11.757975Z"
    },
    "papermill": {
     "duration": 0.023011,
     "end_time": "2023-03-13T19:12:50.543642",
     "exception": false,
     "start_time": "2023-03-13T19:12:50.520631",
     "status": "completed"
    },
    "tags": []
   },
   "source": [
    "#### Analisando o dataset treino, podemos observar que: **38.4%** sobreviveram, e **61.6%** não sobreviveram\n",
    "#### Dos 891 registros no dataset de treino, em torno de apenas **350** pessoas sobreviveram e mais de **500** não sobreviveram"
   ]
  },
  {
   "cell_type": "code",
   "execution_count": 27,
   "id": "aacddbe1",
   "metadata": {
    "execution": {
     "iopub.execute_input": "2023-03-13T19:12:50.591148Z",
     "iopub.status.busy": "2023-03-13T19:12:50.590666Z",
     "iopub.status.idle": "2023-03-13T19:12:50.834434Z",
     "shell.execute_reply": "2023-03-13T19:12:50.833189Z"
    },
    "papermill": {
     "duration": 0.271094,
     "end_time": "2023-03-13T19:12:50.837658",
     "exception": false,
     "start_time": "2023-03-13T19:12:50.566564",
     "status": "completed"
    },
    "tags": []
   },
   "outputs": [
    {
     "data": {
      "image/png": "[encoded data removed]",
      "text/plain": [
       "<Figure size 640x480 with 1 Axes>"
      ]
     },
     "metadata": {},
     "output_type": "display_data"
    }
   ],
   "source": [
    "f, ax = plt.subplots()\n",
    "traindf[['Pclass', 'Survived']].groupby(['Pclass'], as_index=False).mean().plot(ax=ax, kind='bar')\n",
    "ax.set_title('Sobreviventos por classe')\n",
    "\n",
    "plt.show()"
   ]
  },
  {
   "cell_type": "code",
   "execution_count": 28,
   "id": "4f2c7e80",
   "metadata": {
    "execution": {
     "iopub.execute_input": "2023-03-13T19:12:50.888392Z",
     "iopub.status.busy": "2023-03-13T19:12:50.887121Z",
     "iopub.status.idle": "2023-03-13T19:12:50.906617Z",
     "shell.execute_reply": "2023-03-13T19:12:50.905282Z"
    },
    "papermill": {
     "duration": 0.047856,
     "end_time": "2023-03-13T19:12:50.909427",
     "exception": false,
     "start_time": "2023-03-13T19:12:50.861571",
     "status": "completed"
    },
    "tags": []
   },
   "outputs": [
    {
     "data": {
      "text/html": [
       "<div>\n",
       "<style scoped>\n",
       "    .dataframe tbody tr th:only-of-type {\n",
       "        vertical-align: middle;\n",
       "    }\n",
       "\n",
       "    .dataframe tbody tr th {\n",
       "        vertical-align: top;\n",
       "    }\n",
       "\n",
       "    .dataframe thead th {\n",
       "        text-align: right;\n",
       "    }\n",
       "</style>\n",
       "<table border=\"1\" class=\"dataframe\">\n",
       "  <thead>\n",
       "    <tr style=\"text-align: right;\">\n",
       "      <th></th>\n",
       "      <th>PassengerId</th>\n",
       "      <th>Pclass</th>\n",
       "      <th>Sex</th>\n",
       "      <th>Age</th>\n",
       "      <th>SibSp</th>\n",
       "      <th>Parch</th>\n",
       "      <th>Fare</th>\n",
       "      <th>FamilySize</th>\n",
       "      <th>IsAlone</th>\n",
       "      <th>Age_band</th>\n",
       "    </tr>\n",
       "  </thead>\n",
       "  <tbody>\n",
       "    <tr>\n",
       "      <th>0</th>\n",
       "      <td>892</td>\n",
       "      <td>3</td>\n",
       "      <td>1</td>\n",
       "      <td>34</td>\n",
       "      <td>0</td>\n",
       "      <td>0</td>\n",
       "      <td>7.8292</td>\n",
       "      <td>1</td>\n",
       "      <td>1</td>\n",
       "      <td>2</td>\n",
       "    </tr>\n",
       "    <tr>\n",
       "      <th>1</th>\n",
       "      <td>893</td>\n",
       "      <td>3</td>\n",
       "      <td>0</td>\n",
       "      <td>47</td>\n",
       "      <td>1</td>\n",
       "      <td>0</td>\n",
       "      <td>7.0000</td>\n",
       "      <td>2</td>\n",
       "      <td>0</td>\n",
       "      <td>2</td>\n",
       "    </tr>\n",
       "    <tr>\n",
       "      <th>2</th>\n",
       "      <td>894</td>\n",
       "      <td>2</td>\n",
       "      <td>1</td>\n",
       "      <td>62</td>\n",
       "      <td>0</td>\n",
       "      <td>0</td>\n",
       "      <td>9.6875</td>\n",
       "      <td>1</td>\n",
       "      <td>1</td>\n",
       "      <td>3</td>\n",
       "    </tr>\n",
       "    <tr>\n",
       "      <th>3</th>\n",
       "      <td>895</td>\n",
       "      <td>3</td>\n",
       "      <td>1</td>\n",
       "      <td>27</td>\n",
       "      <td>0</td>\n",
       "      <td>0</td>\n",
       "      <td>8.6625</td>\n",
       "      <td>1</td>\n",
       "      <td>1</td>\n",
       "      <td>0</td>\n",
       "    </tr>\n",
       "    <tr>\n",
       "      <th>4</th>\n",
       "      <td>896</td>\n",
       "      <td>3</td>\n",
       "      <td>0</td>\n",
       "      <td>22</td>\n",
       "      <td>1</td>\n",
       "      <td>1</td>\n",
       "      <td>12.2875</td>\n",
       "      <td>3</td>\n",
       "      <td>0</td>\n",
       "      <td>0</td>\n",
       "    </tr>\n",
       "    <tr>\n",
       "      <th>...</th>\n",
       "      <td>...</td>\n",
       "      <td>...</td>\n",
       "      <td>...</td>\n",
       "      <td>...</td>\n",
       "      <td>...</td>\n",
       "      <td>...</td>\n",
       "      <td>...</td>\n",
       "      <td>...</td>\n",
       "      <td>...</td>\n",
       "      <td>...</td>\n",
       "    </tr>\n",
       "    <tr>\n",
       "      <th>413</th>\n",
       "      <td>1305</td>\n",
       "      <td>3</td>\n",
       "      <td>1</td>\n",
       "      <td>27</td>\n",
       "      <td>0</td>\n",
       "      <td>0</td>\n",
       "      <td>8.0500</td>\n",
       "      <td>1</td>\n",
       "      <td>1</td>\n",
       "      <td>0</td>\n",
       "    </tr>\n",
       "    <tr>\n",
       "      <th>414</th>\n",
       "      <td>1306</td>\n",
       "      <td>1</td>\n",
       "      <td>0</td>\n",
       "      <td>39</td>\n",
       "      <td>0</td>\n",
       "      <td>0</td>\n",
       "      <td>108.9000</td>\n",
       "      <td>1</td>\n",
       "      <td>1</td>\n",
       "      <td>2</td>\n",
       "    </tr>\n",
       "    <tr>\n",
       "      <th>415</th>\n",
       "      <td>1307</td>\n",
       "      <td>3</td>\n",
       "      <td>1</td>\n",
       "      <td>38</td>\n",
       "      <td>0</td>\n",
       "      <td>0</td>\n",
       "      <td>7.2500</td>\n",
       "      <td>1</td>\n",
       "      <td>1</td>\n",
       "      <td>2</td>\n",
       "    </tr>\n",
       "    <tr>\n",
       "      <th>416</th>\n",
       "      <td>1308</td>\n",
       "      <td>3</td>\n",
       "      <td>1</td>\n",
       "      <td>27</td>\n",
       "      <td>0</td>\n",
       "      <td>0</td>\n",
       "      <td>8.0500</td>\n",
       "      <td>1</td>\n",
       "      <td>1</td>\n",
       "      <td>0</td>\n",
       "    </tr>\n",
       "    <tr>\n",
       "      <th>417</th>\n",
       "      <td>1309</td>\n",
       "      <td>3</td>\n",
       "      <td>1</td>\n",
       "      <td>27</td>\n",
       "      <td>1</td>\n",
       "      <td>1</td>\n",
       "      <td>22.3583</td>\n",
       "      <td>3</td>\n",
       "      <td>0</td>\n",
       "      <td>0</td>\n",
       "    </tr>\n",
       "  </tbody>\n",
       "</table>\n",
       "<p>418 rows × 10 columns</p>\n",
       "</div>"
      ],
      "text/plain": [
       "     PassengerId  Pclass  Sex  Age  SibSp  Parch      Fare  FamilySize  \\\n",
       "0            892       3    1   34      0      0    7.8292           1   \n",
       "1            893       3    0   47      1      0    7.0000           2   \n",
       "2            894       2    1   62      0      0    9.6875           1   \n",
       "3            895       3    1   27      0      0    8.6625           1   \n",
       "4            896       3    0   22      1      1   12.2875           3   \n",
       "..           ...     ...  ...  ...    ...    ...       ...         ...   \n",
       "413         1305       3    1   27      0      0    8.0500           1   \n",
       "414         1306       1    0   39      0      0  108.9000           1   \n",
       "415         1307       3    1   38      0      0    7.2500           1   \n",
       "416         1308       3    1   27      0      0    8.0500           1   \n",
       "417         1309       3    1   27      1      1   22.3583           3   \n",
       "\n",
       "     IsAlone  Age_band  \n",
       "0          1         2  \n",
       "1          0         2  \n",
       "2          1         3  \n",
       "3          1         0  \n",
       "4          0         0  \n",
       "..       ...       ...  \n",
       "413        1         0  \n",
       "414        1         2  \n",
       "415        1         2  \n",
       "416        1         0  \n",
       "417        0         0  \n",
       "\n",
       "[418 rows x 10 columns]"
      ]
     },
     "execution_count": 28,
     "metadata": {},
     "output_type": "execute_result"
    }
   ],
   "source": [
    "testdf2"
   ]
  },
  {
   "cell_type": "code",
   "execution_count": 29,
   "id": "f9f57d63",
   "metadata": {
    "execution": {
     "iopub.execute_input": "2023-03-13T19:12:50.958541Z",
     "iopub.status.busy": "2023-03-13T19:12:50.957479Z",
     "iopub.status.idle": "2023-03-13T19:12:50.977975Z",
     "shell.execute_reply": "2023-03-13T19:12:50.976052Z"
    },
    "papermill": {
     "duration": 0.047921,
     "end_time": "2023-03-13T19:12:50.980874",
     "exception": false,
     "start_time": "2023-03-13T19:12:50.932953",
     "status": "completed"
    },
    "tags": []
   },
   "outputs": [
    {
     "data": {
      "text/html": [
       "<div>\n",
       "<style scoped>\n",
       "    .dataframe tbody tr th:only-of-type {\n",
       "        vertical-align: middle;\n",
       "    }\n",
       "\n",
       "    .dataframe tbody tr th {\n",
       "        vertical-align: top;\n",
       "    }\n",
       "\n",
       "    .dataframe thead th {\n",
       "        text-align: right;\n",
       "    }\n",
       "</style>\n",
       "<table border=\"1\" class=\"dataframe\">\n",
       "  <thead>\n",
       "    <tr style=\"text-align: right;\">\n",
       "      <th></th>\n",
       "      <th>PassengerId</th>\n",
       "      <th>Survived</th>\n",
       "      <th>Pclass</th>\n",
       "      <th>Sex</th>\n",
       "      <th>Age</th>\n",
       "      <th>SibSp</th>\n",
       "      <th>Parch</th>\n",
       "      <th>Fare</th>\n",
       "      <th>FamilySize</th>\n",
       "      <th>IsAlone</th>\n",
       "      <th>Age_band</th>\n",
       "    </tr>\n",
       "  </thead>\n",
       "  <tbody>\n",
       "    <tr>\n",
       "      <th>0</th>\n",
       "      <td>1</td>\n",
       "      <td>0</td>\n",
       "      <td>3</td>\n",
       "      <td>1</td>\n",
       "      <td>22</td>\n",
       "      <td>1</td>\n",
       "      <td>0</td>\n",
       "      <td>7.2500</td>\n",
       "      <td>2</td>\n",
       "      <td>0</td>\n",
       "      <td>0</td>\n",
       "    </tr>\n",
       "    <tr>\n",
       "      <th>1</th>\n",
       "      <td>2</td>\n",
       "      <td>1</td>\n",
       "      <td>1</td>\n",
       "      <td>0</td>\n",
       "      <td>38</td>\n",
       "      <td>1</td>\n",
       "      <td>0</td>\n",
       "      <td>71.2833</td>\n",
       "      <td>2</td>\n",
       "      <td>0</td>\n",
       "      <td>2</td>\n",
       "    </tr>\n",
       "    <tr>\n",
       "      <th>2</th>\n",
       "      <td>3</td>\n",
       "      <td>1</td>\n",
       "      <td>3</td>\n",
       "      <td>0</td>\n",
       "      <td>26</td>\n",
       "      <td>0</td>\n",
       "      <td>0</td>\n",
       "      <td>7.9250</td>\n",
       "      <td>1</td>\n",
       "      <td>1</td>\n",
       "      <td>0</td>\n",
       "    </tr>\n",
       "    <tr>\n",
       "      <th>3</th>\n",
       "      <td>4</td>\n",
       "      <td>1</td>\n",
       "      <td>1</td>\n",
       "      <td>0</td>\n",
       "      <td>35</td>\n",
       "      <td>1</td>\n",
       "      <td>0</td>\n",
       "      <td>53.1000</td>\n",
       "      <td>2</td>\n",
       "      <td>0</td>\n",
       "      <td>2</td>\n",
       "    </tr>\n",
       "    <tr>\n",
       "      <th>4</th>\n",
       "      <td>5</td>\n",
       "      <td>0</td>\n",
       "      <td>3</td>\n",
       "      <td>1</td>\n",
       "      <td>35</td>\n",
       "      <td>0</td>\n",
       "      <td>0</td>\n",
       "      <td>8.0500</td>\n",
       "      <td>1</td>\n",
       "      <td>1</td>\n",
       "      <td>2</td>\n",
       "    </tr>\n",
       "    <tr>\n",
       "      <th>...</th>\n",
       "      <td>...</td>\n",
       "      <td>...</td>\n",
       "      <td>...</td>\n",
       "      <td>...</td>\n",
       "      <td>...</td>\n",
       "      <td>...</td>\n",
       "      <td>...</td>\n",
       "      <td>...</td>\n",
       "      <td>...</td>\n",
       "      <td>...</td>\n",
       "      <td>...</td>\n",
       "    </tr>\n",
       "    <tr>\n",
       "      <th>886</th>\n",
       "      <td>887</td>\n",
       "      <td>0</td>\n",
       "      <td>2</td>\n",
       "      <td>1</td>\n",
       "      <td>27</td>\n",
       "      <td>0</td>\n",
       "      <td>0</td>\n",
       "      <td>13.0000</td>\n",
       "      <td>1</td>\n",
       "      <td>1</td>\n",
       "      <td>0</td>\n",
       "    </tr>\n",
       "    <tr>\n",
       "      <th>887</th>\n",
       "      <td>888</td>\n",
       "      <td>1</td>\n",
       "      <td>1</td>\n",
       "      <td>0</td>\n",
       "      <td>19</td>\n",
       "      <td>0</td>\n",
       "      <td>0</td>\n",
       "      <td>30.0000</td>\n",
       "      <td>1</td>\n",
       "      <td>1</td>\n",
       "      <td>0</td>\n",
       "    </tr>\n",
       "    <tr>\n",
       "      <th>888</th>\n",
       "      <td>889</td>\n",
       "      <td>0</td>\n",
       "      <td>3</td>\n",
       "      <td>0</td>\n",
       "      <td>28</td>\n",
       "      <td>1</td>\n",
       "      <td>2</td>\n",
       "      <td>23.4500</td>\n",
       "      <td>4</td>\n",
       "      <td>0</td>\n",
       "      <td>0</td>\n",
       "    </tr>\n",
       "    <tr>\n",
       "      <th>889</th>\n",
       "      <td>890</td>\n",
       "      <td>1</td>\n",
       "      <td>1</td>\n",
       "      <td>1</td>\n",
       "      <td>26</td>\n",
       "      <td>0</td>\n",
       "      <td>0</td>\n",
       "      <td>30.0000</td>\n",
       "      <td>1</td>\n",
       "      <td>1</td>\n",
       "      <td>0</td>\n",
       "    </tr>\n",
       "    <tr>\n",
       "      <th>890</th>\n",
       "      <td>891</td>\n",
       "      <td>0</td>\n",
       "      <td>3</td>\n",
       "      <td>1</td>\n",
       "      <td>32</td>\n",
       "      <td>0</td>\n",
       "      <td>0</td>\n",
       "      <td>7.7500</td>\n",
       "      <td>1</td>\n",
       "      <td>1</td>\n",
       "      <td>0</td>\n",
       "    </tr>\n",
       "  </tbody>\n",
       "</table>\n",
       "<p>891 rows × 11 columns</p>\n",
       "</div>"
      ],
      "text/plain": [
       "     PassengerId  Survived  Pclass  Sex  Age  SibSp  Parch     Fare  \\\n",
       "0              1         0       3    1   22      1      0   7.2500   \n",
       "1              2         1       1    0   38      1      0  71.2833   \n",
       "2              3         1       3    0   26      0      0   7.9250   \n",
       "3              4         1       1    0   35      1      0  53.1000   \n",
       "4              5         0       3    1   35      0      0   8.0500   \n",
       "..           ...       ...     ...  ...  ...    ...    ...      ...   \n",
       "886          887         0       2    1   27      0      0  13.0000   \n",
       "887          888         1       1    0   19      0      0  30.0000   \n",
       "888          889         0       3    0   28      1      2  23.4500   \n",
       "889          890         1       1    1   26      0      0  30.0000   \n",
       "890          891         0       3    1   32      0      0   7.7500   \n",
       "\n",
       "     FamilySize  IsAlone  Age_band  \n",
       "0             2        0         0  \n",
       "1             2        0         2  \n",
       "2             1        1         0  \n",
       "3             2        0         2  \n",
       "4             1        1         2  \n",
       "..          ...      ...       ...  \n",
       "886           1        1         0  \n",
       "887           1        1         0  \n",
       "888           4        0         0  \n",
       "889           1        1         0  \n",
       "890           1        1         0  \n",
       "\n",
       "[891 rows x 11 columns]"
      ]
     },
     "execution_count": 29,
     "metadata": {},
     "output_type": "execute_result"
    }
   ],
   "source": [
    "traindf2"
   ]
  },
  {
   "cell_type": "code",
   "execution_count": 30,
   "id": "f003e02a",
   "metadata": {
    "execution": {
     "iopub.execute_input": "2023-03-13T19:12:51.031565Z",
     "iopub.status.busy": "2023-03-13T19:12:51.030409Z",
     "iopub.status.idle": "2023-03-13T19:12:51.051544Z",
     "shell.execute_reply": "2023-03-13T19:12:51.049574Z"
    },
    "papermill": {
     "duration": 0.049845,
     "end_time": "2023-03-13T19:12:51.054519",
     "exception": false,
     "start_time": "2023-03-13T19:12:51.004674",
     "status": "completed"
    },
    "tags": []
   },
   "outputs": [
    {
     "data": {
      "text/html": [
       "<div>\n",
       "<style scoped>\n",
       "    .dataframe tbody tr th:only-of-type {\n",
       "        vertical-align: middle;\n",
       "    }\n",
       "\n",
       "    .dataframe tbody tr th {\n",
       "        vertical-align: top;\n",
       "    }\n",
       "\n",
       "    .dataframe thead th {\n",
       "        text-align: right;\n",
       "    }\n",
       "</style>\n",
       "<table border=\"1\" class=\"dataframe\">\n",
       "  <thead>\n",
       "    <tr style=\"text-align: right;\">\n",
       "      <th></th>\n",
       "      <th>PassengerId</th>\n",
       "      <th>Pclass</th>\n",
       "      <th>Sex</th>\n",
       "      <th>Age</th>\n",
       "      <th>SibSp</th>\n",
       "      <th>Parch</th>\n",
       "      <th>Fare</th>\n",
       "      <th>FamilySize</th>\n",
       "      <th>IsAlone</th>\n",
       "      <th>Age_band</th>\n",
       "    </tr>\n",
       "  </thead>\n",
       "  <tbody>\n",
       "    <tr>\n",
       "      <th>0</th>\n",
       "      <td>892</td>\n",
       "      <td>3</td>\n",
       "      <td>1</td>\n",
       "      <td>34</td>\n",
       "      <td>0</td>\n",
       "      <td>0</td>\n",
       "      <td>7.8292</td>\n",
       "      <td>1</td>\n",
       "      <td>1</td>\n",
       "      <td>2</td>\n",
       "    </tr>\n",
       "    <tr>\n",
       "      <th>1</th>\n",
       "      <td>893</td>\n",
       "      <td>3</td>\n",
       "      <td>0</td>\n",
       "      <td>47</td>\n",
       "      <td>1</td>\n",
       "      <td>0</td>\n",
       "      <td>7.0000</td>\n",
       "      <td>2</td>\n",
       "      <td>0</td>\n",
       "      <td>2</td>\n",
       "    </tr>\n",
       "    <tr>\n",
       "      <th>2</th>\n",
       "      <td>894</td>\n",
       "      <td>2</td>\n",
       "      <td>1</td>\n",
       "      <td>62</td>\n",
       "      <td>0</td>\n",
       "      <td>0</td>\n",
       "      <td>9.6875</td>\n",
       "      <td>1</td>\n",
       "      <td>1</td>\n",
       "      <td>3</td>\n",
       "    </tr>\n",
       "    <tr>\n",
       "      <th>3</th>\n",
       "      <td>895</td>\n",
       "      <td>3</td>\n",
       "      <td>1</td>\n",
       "      <td>27</td>\n",
       "      <td>0</td>\n",
       "      <td>0</td>\n",
       "      <td>8.6625</td>\n",
       "      <td>1</td>\n",
       "      <td>1</td>\n",
       "      <td>0</td>\n",
       "    </tr>\n",
       "    <tr>\n",
       "      <th>4</th>\n",
       "      <td>896</td>\n",
       "      <td>3</td>\n",
       "      <td>0</td>\n",
       "      <td>22</td>\n",
       "      <td>1</td>\n",
       "      <td>1</td>\n",
       "      <td>12.2875</td>\n",
       "      <td>3</td>\n",
       "      <td>0</td>\n",
       "      <td>0</td>\n",
       "    </tr>\n",
       "    <tr>\n",
       "      <th>...</th>\n",
       "      <td>...</td>\n",
       "      <td>...</td>\n",
       "      <td>...</td>\n",
       "      <td>...</td>\n",
       "      <td>...</td>\n",
       "      <td>...</td>\n",
       "      <td>...</td>\n",
       "      <td>...</td>\n",
       "      <td>...</td>\n",
       "      <td>...</td>\n",
       "    </tr>\n",
       "    <tr>\n",
       "      <th>413</th>\n",
       "      <td>1305</td>\n",
       "      <td>3</td>\n",
       "      <td>1</td>\n",
       "      <td>27</td>\n",
       "      <td>0</td>\n",
       "      <td>0</td>\n",
       "      <td>8.0500</td>\n",
       "      <td>1</td>\n",
       "      <td>1</td>\n",
       "      <td>0</td>\n",
       "    </tr>\n",
       "    <tr>\n",
       "      <th>414</th>\n",
       "      <td>1306</td>\n",
       "      <td>1</td>\n",
       "      <td>0</td>\n",
       "      <td>39</td>\n",
       "      <td>0</td>\n",
       "      <td>0</td>\n",
       "      <td>108.9000</td>\n",
       "      <td>1</td>\n",
       "      <td>1</td>\n",
       "      <td>2</td>\n",
       "    </tr>\n",
       "    <tr>\n",
       "      <th>415</th>\n",
       "      <td>1307</td>\n",
       "      <td>3</td>\n",
       "      <td>1</td>\n",
       "      <td>38</td>\n",
       "      <td>0</td>\n",
       "      <td>0</td>\n",
       "      <td>7.2500</td>\n",
       "      <td>1</td>\n",
       "      <td>1</td>\n",
       "      <td>2</td>\n",
       "    </tr>\n",
       "    <tr>\n",
       "      <th>416</th>\n",
       "      <td>1308</td>\n",
       "      <td>3</td>\n",
       "      <td>1</td>\n",
       "      <td>27</td>\n",
       "      <td>0</td>\n",
       "      <td>0</td>\n",
       "      <td>8.0500</td>\n",
       "      <td>1</td>\n",
       "      <td>1</td>\n",
       "      <td>0</td>\n",
       "    </tr>\n",
       "    <tr>\n",
       "      <th>417</th>\n",
       "      <td>1309</td>\n",
       "      <td>3</td>\n",
       "      <td>1</td>\n",
       "      <td>27</td>\n",
       "      <td>1</td>\n",
       "      <td>1</td>\n",
       "      <td>22.3583</td>\n",
       "      <td>3</td>\n",
       "      <td>0</td>\n",
       "      <td>0</td>\n",
       "    </tr>\n",
       "  </tbody>\n",
       "</table>\n",
       "<p>418 rows × 10 columns</p>\n",
       "</div>"
      ],
      "text/plain": [
       "     PassengerId  Pclass  Sex  Age  SibSp  Parch      Fare  FamilySize  \\\n",
       "0            892       3    1   34      0      0    7.8292           1   \n",
       "1            893       3    0   47      1      0    7.0000           2   \n",
       "2            894       2    1   62      0      0    9.6875           1   \n",
       "3            895       3    1   27      0      0    8.6625           1   \n",
       "4            896       3    0   22      1      1   12.2875           3   \n",
       "..           ...     ...  ...  ...    ...    ...       ...         ...   \n",
       "413         1305       3    1   27      0      0    8.0500           1   \n",
       "414         1306       1    0   39      0      0  108.9000           1   \n",
       "415         1307       3    1   38      0      0    7.2500           1   \n",
       "416         1308       3    1   27      0      0    8.0500           1   \n",
       "417         1309       3    1   27      1      1   22.3583           3   \n",
       "\n",
       "     IsAlone  Age_band  \n",
       "0          1         2  \n",
       "1          0         2  \n",
       "2          1         3  \n",
       "3          1         0  \n",
       "4          0         0  \n",
       "..       ...       ...  \n",
       "413        1         0  \n",
       "414        1         2  \n",
       "415        1         2  \n",
       "416        1         0  \n",
       "417        0         0  \n",
       "\n",
       "[418 rows x 10 columns]"
      ]
     },
     "execution_count": 30,
     "metadata": {},
     "output_type": "execute_result"
    }
   ],
   "source": [
    "testdf2"
   ]
  },
  {
   "cell_type": "code",
   "execution_count": null,
   "id": "fade9599",
   "metadata": {
    "papermill": {
     "duration": 0.025512,
     "end_time": "2023-03-13T19:12:51.104577",
     "exception": false,
     "start_time": "2023-03-13T19:12:51.079065",
     "status": "completed"
    },
    "tags": []
   },
   "outputs": [],
   "source": []
  },
  {
   "cell_type": "code",
   "execution_count": 31,
   "id": "a9b4337c",
   "metadata": {
    "execution": {
     "iopub.execute_input": "2023-03-13T19:12:51.160383Z",
     "iopub.status.busy": "2023-03-13T19:12:51.159909Z",
     "iopub.status.idle": "2023-03-13T19:12:51.778170Z",
     "shell.execute_reply": "2023-03-13T19:12:51.776528Z"
    },
    "papermill": {
     "duration": 0.651018,
     "end_time": "2023-03-13T19:12:51.782130",
     "exception": false,
     "start_time": "2023-03-13T19:12:51.131112",
     "status": "completed"
    },
    "tags": []
   },
   "outputs": [],
   "source": [
    "# machine learning\n",
    "from sklearn.linear_model import LogisticRegression\n",
    "from sklearn.svm import SVC, LinearSVC\n",
    "from sklearn.ensemble import RandomForestClassifier\n",
    "from sklearn.neighbors import KNeighborsClassifier\n",
    "from sklearn.naive_bayes import GaussianNB\n",
    "from sklearn.linear_model import Perceptron\n",
    "from sklearn.linear_model import SGDClassifier\n",
    "from sklearn.tree import DecisionTreeClassifier"
   ]
  },
  {
   "cell_type": "code",
   "execution_count": 32,
   "id": "dbac3846",
   "metadata": {
    "execution": {
     "iopub.execute_input": "2023-03-13T19:12:51.835378Z",
     "iopub.status.busy": "2023-03-13T19:12:51.833746Z",
     "iopub.status.idle": "2023-03-13T19:12:51.843209Z",
     "shell.execute_reply": "2023-03-13T19:12:51.842182Z"
    },
    "papermill": {
     "duration": 0.038704,
     "end_time": "2023-03-13T19:12:51.845856",
     "exception": false,
     "start_time": "2023-03-13T19:12:51.807152",
     "status": "completed"
    },
    "tags": []
   },
   "outputs": [],
   "source": [
    "testdf2['Fare'].fillna(testdf2['Fare'].dropna().median(), inplace=True)\n",
    "traindf2['Fare'].fillna(traindf2['Fare'].dropna().median(), inplace=True)"
   ]
  },
  {
   "cell_type": "code",
   "execution_count": 33,
   "id": "c3b9194b",
   "metadata": {
    "execution": {
     "iopub.execute_input": "2023-03-13T19:12:51.900847Z",
     "iopub.status.busy": "2023-03-13T19:12:51.900028Z",
     "iopub.status.idle": "2023-03-13T19:12:51.912389Z",
     "shell.execute_reply": "2023-03-13T19:12:51.911342Z"
    },
    "papermill": {
     "duration": 0.043132,
     "end_time": "2023-03-13T19:12:51.915227",
     "exception": false,
     "start_time": "2023-03-13T19:12:51.872095",
     "status": "completed"
    },
    "tags": []
   },
   "outputs": [],
   "source": [
    "testdf2.loc[ testdf2['Fare'] <= 7.91, 'Fare'] = 0\n",
    "testdf2.loc[(testdf2['Fare'] > 7.91) & (testdf2['Fare'] <= 14.454), 'Fare'] = 1\n",
    "testdf2.loc[(testdf2['Fare'] > 14.454) & (testdf2['Fare'] <= 31), 'Fare']   = 2\n",
    "testdf2.loc[ testdf2['Fare'] > 31, 'Fare'] = 3\n",
    "testdf2['Fare'] = testdf2['Fare'].astype(int)\n",
    "\n"
   ]
  },
  {
   "cell_type": "code",
   "execution_count": 34,
   "id": "369a9a00",
   "metadata": {
    "execution": {
     "iopub.execute_input": "2023-03-13T19:12:51.964669Z",
     "iopub.status.busy": "2023-03-13T19:12:51.964207Z",
     "iopub.status.idle": "2023-03-13T19:12:51.977030Z",
     "shell.execute_reply": "2023-03-13T19:12:51.975996Z"
    },
    "papermill": {
     "duration": 0.040606,
     "end_time": "2023-03-13T19:12:51.979832",
     "exception": false,
     "start_time": "2023-03-13T19:12:51.939226",
     "status": "completed"
    },
    "tags": []
   },
   "outputs": [],
   "source": [
    "traindf2.loc[ traindf2['Fare'] <= 7.91, 'Fare'] = 0\n",
    "traindf2.loc[(traindf2['Fare'] > 7.91) & (traindf2['Fare'] <= 14.454), 'Fare'] = 1\n",
    "traindf2.loc[(traindf2['Fare'] > 14.454) & (traindf2['Fare'] <= 31), 'Fare']   = 2\n",
    "traindf2.loc[ traindf2['Fare'] > 31, 'Fare'] = 3\n",
    "traindf2['Fare'] = traindf2['Fare'].astype(int)"
   ]
  },
  {
   "cell_type": "code",
   "execution_count": 35,
   "id": "8f3afcd2",
   "metadata": {
    "execution": {
     "iopub.execute_input": "2023-03-13T19:12:52.031959Z",
     "iopub.status.busy": "2023-03-13T19:12:52.030749Z",
     "iopub.status.idle": "2023-03-13T19:12:52.055268Z",
     "shell.execute_reply": "2023-03-13T19:12:52.053089Z"
    },
    "papermill": {
     "duration": 0.053501,
     "end_time": "2023-03-13T19:12:52.058602",
     "exception": false,
     "start_time": "2023-03-13T19:12:52.005101",
     "status": "completed"
    },
    "tags": []
   },
   "outputs": [
    {
     "name": "stdout",
     "output_type": "stream",
     "text": [
      "<class 'pandas.core.frame.DataFrame'>\n",
      "RangeIndex: 891 entries, 0 to 890\n",
      "Data columns (total 11 columns):\n",
      " #   Column       Non-Null Count  Dtype\n",
      "---  ------       --------------  -----\n",
      " 0   PassengerId  891 non-null    int64\n",
      " 1   Survived     891 non-null    int64\n",
      " 2   Pclass       891 non-null    int64\n",
      " 3   Sex          891 non-null    int64\n",
      " 4   Age          891 non-null    int64\n",
      " 5   SibSp        891 non-null    int64\n",
      " 6   Parch        891 non-null    int64\n",
      " 7   Fare         891 non-null    int64\n",
      " 8   FamilySize   891 non-null    int64\n",
      " 9   IsAlone      891 non-null    int64\n",
      " 10  Age_band     891 non-null    int64\n",
      "dtypes: int64(11)\n",
      "memory usage: 76.7 KB\n",
      "________________________________________\n",
      "<class 'pandas.core.frame.DataFrame'>\n",
      "RangeIndex: 418 entries, 0 to 417\n",
      "Data columns (total 10 columns):\n",
      " #   Column       Non-Null Count  Dtype\n",
      "---  ------       --------------  -----\n",
      " 0   PassengerId  418 non-null    int64\n",
      " 1   Pclass       418 non-null    int64\n",
      " 2   Sex          418 non-null    int64\n",
      " 3   Age          418 non-null    int64\n",
      " 4   SibSp        418 non-null    int64\n",
      " 5   Parch        418 non-null    int64\n",
      " 6   Fare         418 non-null    int64\n",
      " 7   FamilySize   418 non-null    int64\n",
      " 8   IsAlone      418 non-null    int64\n",
      " 9   Age_band     418 non-null    int64\n",
      "dtypes: int64(10)\n",
      "memory usage: 32.8 KB\n"
     ]
    }
   ],
   "source": [
    "traindf2.info()\n",
    "print('_'*40)\n",
    "testdf2.info()"
   ]
  },
  {
   "cell_type": "code",
   "execution_count": 36,
   "id": "a15d062d",
   "metadata": {
    "execution": {
     "iopub.execute_input": "2023-03-13T19:12:52.112029Z",
     "iopub.status.busy": "2023-03-13T19:12:52.110787Z",
     "iopub.status.idle": "2023-03-13T19:12:52.128050Z",
     "shell.execute_reply": "2023-03-13T19:12:52.125979Z"
    },
    "papermill": {
     "duration": 0.050396,
     "end_time": "2023-03-13T19:12:52.133518",
     "exception": false,
     "start_time": "2023-03-13T19:12:52.083122",
     "status": "completed"
    },
    "tags": []
   },
   "outputs": [
    {
     "data": {
      "text/html": [
       "<div>\n",
       "<style scoped>\n",
       "    .dataframe tbody tr th:only-of-type {\n",
       "        vertical-align: middle;\n",
       "    }\n",
       "\n",
       "    .dataframe tbody tr th {\n",
       "        vertical-align: top;\n",
       "    }\n",
       "\n",
       "    .dataframe thead th {\n",
       "        text-align: right;\n",
       "    }\n",
       "</style>\n",
       "<table border=\"1\" class=\"dataframe\">\n",
       "  <thead>\n",
       "    <tr style=\"text-align: right;\">\n",
       "      <th></th>\n",
       "      <th>PassengerId</th>\n",
       "      <th>Survived</th>\n",
       "      <th>Pclass</th>\n",
       "      <th>Sex</th>\n",
       "      <th>Age</th>\n",
       "      <th>SibSp</th>\n",
       "      <th>Parch</th>\n",
       "      <th>Fare</th>\n",
       "      <th>FamilySize</th>\n",
       "      <th>IsAlone</th>\n",
       "      <th>Age_band</th>\n",
       "    </tr>\n",
       "  </thead>\n",
       "  <tbody>\n",
       "    <tr>\n",
       "      <th>0</th>\n",
       "      <td>1</td>\n",
       "      <td>0</td>\n",
       "      <td>3</td>\n",
       "      <td>1</td>\n",
       "      <td>22</td>\n",
       "      <td>1</td>\n",
       "      <td>0</td>\n",
       "      <td>0</td>\n",
       "      <td>2</td>\n",
       "      <td>0</td>\n",
       "      <td>0</td>\n",
       "    </tr>\n",
       "    <tr>\n",
       "      <th>1</th>\n",
       "      <td>2</td>\n",
       "      <td>1</td>\n",
       "      <td>1</td>\n",
       "      <td>0</td>\n",
       "      <td>38</td>\n",
       "      <td>1</td>\n",
       "      <td>0</td>\n",
       "      <td>3</td>\n",
       "      <td>2</td>\n",
       "      <td>0</td>\n",
       "      <td>2</td>\n",
       "    </tr>\n",
       "    <tr>\n",
       "      <th>2</th>\n",
       "      <td>3</td>\n",
       "      <td>1</td>\n",
       "      <td>3</td>\n",
       "      <td>0</td>\n",
       "      <td>26</td>\n",
       "      <td>0</td>\n",
       "      <td>0</td>\n",
       "      <td>1</td>\n",
       "      <td>1</td>\n",
       "      <td>1</td>\n",
       "      <td>0</td>\n",
       "    </tr>\n",
       "    <tr>\n",
       "      <th>3</th>\n",
       "      <td>4</td>\n",
       "      <td>1</td>\n",
       "      <td>1</td>\n",
       "      <td>0</td>\n",
       "      <td>35</td>\n",
       "      <td>1</td>\n",
       "      <td>0</td>\n",
       "      <td>3</td>\n",
       "      <td>2</td>\n",
       "      <td>0</td>\n",
       "      <td>2</td>\n",
       "    </tr>\n",
       "    <tr>\n",
       "      <th>4</th>\n",
       "      <td>5</td>\n",
       "      <td>0</td>\n",
       "      <td>3</td>\n",
       "      <td>1</td>\n",
       "      <td>35</td>\n",
       "      <td>0</td>\n",
       "      <td>0</td>\n",
       "      <td>1</td>\n",
       "      <td>1</td>\n",
       "      <td>1</td>\n",
       "      <td>2</td>\n",
       "    </tr>\n",
       "  </tbody>\n",
       "</table>\n",
       "</div>"
      ],
      "text/plain": [
       "   PassengerId  Survived  Pclass  Sex  Age  SibSp  Parch  Fare  FamilySize  \\\n",
       "0            1         0       3    1   22      1      0     0           2   \n",
       "1            2         1       1    0   38      1      0     3           2   \n",
       "2            3         1       3    0   26      0      0     1           1   \n",
       "3            4         1       1    0   35      1      0     3           2   \n",
       "4            5         0       3    1   35      0      0     1           1   \n",
       "\n",
       "   IsAlone  Age_band  \n",
       "0        0         0  \n",
       "1        0         2  \n",
       "2        1         0  \n",
       "3        0         2  \n",
       "4        1         2  "
      ]
     },
     "execution_count": 36,
     "metadata": {},
     "output_type": "execute_result"
    }
   ],
   "source": [
    "#traindf2 = traindf2.drop(\"PassengerId\", axis=1)\n",
    "traindf2.head()"
   ]
  },
  {
   "cell_type": "code",
   "execution_count": 37,
   "id": "52bf9592",
   "metadata": {
    "execution": {
     "iopub.execute_input": "2023-03-13T19:12:52.204454Z",
     "iopub.status.busy": "2023-03-13T19:12:52.202959Z",
     "iopub.status.idle": "2023-03-13T19:12:52.222790Z",
     "shell.execute_reply": "2023-03-13T19:12:52.221071Z"
    },
    "papermill": {
     "duration": 0.055452,
     "end_time": "2023-03-13T19:12:52.226019",
     "exception": false,
     "start_time": "2023-03-13T19:12:52.170567",
     "status": "completed"
    },
    "tags": []
   },
   "outputs": [
    {
     "data": {
      "text/html": [
       "<div>\n",
       "<style scoped>\n",
       "    .dataframe tbody tr th:only-of-type {\n",
       "        vertical-align: middle;\n",
       "    }\n",
       "\n",
       "    .dataframe tbody tr th {\n",
       "        vertical-align: top;\n",
       "    }\n",
       "\n",
       "    .dataframe thead th {\n",
       "        text-align: right;\n",
       "    }\n",
       "</style>\n",
       "<table border=\"1\" class=\"dataframe\">\n",
       "  <thead>\n",
       "    <tr style=\"text-align: right;\">\n",
       "      <th></th>\n",
       "      <th>PassengerId</th>\n",
       "      <th>Pclass</th>\n",
       "      <th>Sex</th>\n",
       "      <th>Age</th>\n",
       "      <th>SibSp</th>\n",
       "      <th>Parch</th>\n",
       "      <th>Fare</th>\n",
       "      <th>FamilySize</th>\n",
       "      <th>IsAlone</th>\n",
       "      <th>Age_band</th>\n",
       "    </tr>\n",
       "  </thead>\n",
       "  <tbody>\n",
       "    <tr>\n",
       "      <th>0</th>\n",
       "      <td>892</td>\n",
       "      <td>3</td>\n",
       "      <td>1</td>\n",
       "      <td>34</td>\n",
       "      <td>0</td>\n",
       "      <td>0</td>\n",
       "      <td>0</td>\n",
       "      <td>1</td>\n",
       "      <td>1</td>\n",
       "      <td>2</td>\n",
       "    </tr>\n",
       "    <tr>\n",
       "      <th>1</th>\n",
       "      <td>893</td>\n",
       "      <td>3</td>\n",
       "      <td>0</td>\n",
       "      <td>47</td>\n",
       "      <td>1</td>\n",
       "      <td>0</td>\n",
       "      <td>0</td>\n",
       "      <td>2</td>\n",
       "      <td>0</td>\n",
       "      <td>2</td>\n",
       "    </tr>\n",
       "    <tr>\n",
       "      <th>2</th>\n",
       "      <td>894</td>\n",
       "      <td>2</td>\n",
       "      <td>1</td>\n",
       "      <td>62</td>\n",
       "      <td>0</td>\n",
       "      <td>0</td>\n",
       "      <td>1</td>\n",
       "      <td>1</td>\n",
       "      <td>1</td>\n",
       "      <td>3</td>\n",
       "    </tr>\n",
       "    <tr>\n",
       "      <th>3</th>\n",
       "      <td>895</td>\n",
       "      <td>3</td>\n",
       "      <td>1</td>\n",
       "      <td>27</td>\n",
       "      <td>0</td>\n",
       "      <td>0</td>\n",
       "      <td>1</td>\n",
       "      <td>1</td>\n",
       "      <td>1</td>\n",
       "      <td>0</td>\n",
       "    </tr>\n",
       "    <tr>\n",
       "      <th>4</th>\n",
       "      <td>896</td>\n",
       "      <td>3</td>\n",
       "      <td>0</td>\n",
       "      <td>22</td>\n",
       "      <td>1</td>\n",
       "      <td>1</td>\n",
       "      <td>1</td>\n",
       "      <td>3</td>\n",
       "      <td>0</td>\n",
       "      <td>0</td>\n",
       "    </tr>\n",
       "    <tr>\n",
       "      <th>...</th>\n",
       "      <td>...</td>\n",
       "      <td>...</td>\n",
       "      <td>...</td>\n",
       "      <td>...</td>\n",
       "      <td>...</td>\n",
       "      <td>...</td>\n",
       "      <td>...</td>\n",
       "      <td>...</td>\n",
       "      <td>...</td>\n",
       "      <td>...</td>\n",
       "    </tr>\n",
       "    <tr>\n",
       "      <th>413</th>\n",
       "      <td>1305</td>\n",
       "      <td>3</td>\n",
       "      <td>1</td>\n",
       "      <td>27</td>\n",
       "      <td>0</td>\n",
       "      <td>0</td>\n",
       "      <td>1</td>\n",
       "      <td>1</td>\n",
       "      <td>1</td>\n",
       "      <td>0</td>\n",
       "    </tr>\n",
       "    <tr>\n",
       "      <th>414</th>\n",
       "      <td>1306</td>\n",
       "      <td>1</td>\n",
       "      <td>0</td>\n",
       "      <td>39</td>\n",
       "      <td>0</td>\n",
       "      <td>0</td>\n",
       "      <td>3</td>\n",
       "      <td>1</td>\n",
       "      <td>1</td>\n",
       "      <td>2</td>\n",
       "    </tr>\n",
       "    <tr>\n",
       "      <th>415</th>\n",
       "      <td>1307</td>\n",
       "      <td>3</td>\n",
       "      <td>1</td>\n",
       "      <td>38</td>\n",
       "      <td>0</td>\n",
       "      <td>0</td>\n",
       "      <td>0</td>\n",
       "      <td>1</td>\n",
       "      <td>1</td>\n",
       "      <td>2</td>\n",
       "    </tr>\n",
       "    <tr>\n",
       "      <th>416</th>\n",
       "      <td>1308</td>\n",
       "      <td>3</td>\n",
       "      <td>1</td>\n",
       "      <td>27</td>\n",
       "      <td>0</td>\n",
       "      <td>0</td>\n",
       "      <td>1</td>\n",
       "      <td>1</td>\n",
       "      <td>1</td>\n",
       "      <td>0</td>\n",
       "    </tr>\n",
       "    <tr>\n",
       "      <th>417</th>\n",
       "      <td>1309</td>\n",
       "      <td>3</td>\n",
       "      <td>1</td>\n",
       "      <td>27</td>\n",
       "      <td>1</td>\n",
       "      <td>1</td>\n",
       "      <td>2</td>\n",
       "      <td>3</td>\n",
       "      <td>0</td>\n",
       "      <td>0</td>\n",
       "    </tr>\n",
       "  </tbody>\n",
       "</table>\n",
       "<p>418 rows × 10 columns</p>\n",
       "</div>"
      ],
      "text/plain": [
       "     PassengerId  Pclass  Sex  Age  SibSp  Parch  Fare  FamilySize  IsAlone  \\\n",
       "0            892       3    1   34      0      0     0           1        1   \n",
       "1            893       3    0   47      1      0     0           2        0   \n",
       "2            894       2    1   62      0      0     1           1        1   \n",
       "3            895       3    1   27      0      0     1           1        1   \n",
       "4            896       3    0   22      1      1     1           3        0   \n",
       "..           ...     ...  ...  ...    ...    ...   ...         ...      ...   \n",
       "413         1305       3    1   27      0      0     1           1        1   \n",
       "414         1306       1    0   39      0      0     3           1        1   \n",
       "415         1307       3    1   38      0      0     0           1        1   \n",
       "416         1308       3    1   27      0      0     1           1        1   \n",
       "417         1309       3    1   27      1      1     2           3        0   \n",
       "\n",
       "     Age_band  \n",
       "0           2  \n",
       "1           2  \n",
       "2           3  \n",
       "3           0  \n",
       "4           0  \n",
       "..        ...  \n",
       "413         0  \n",
       "414         2  \n",
       "415         2  \n",
       "416         0  \n",
       "417         0  \n",
       "\n",
       "[418 rows x 10 columns]"
      ]
     },
     "execution_count": 37,
     "metadata": {},
     "output_type": "execute_result"
    }
   ],
   "source": [
    "testdf2"
   ]
  },
  {
   "cell_type": "code",
   "execution_count": 38,
   "id": "4edfb61d",
   "metadata": {
    "execution": {
     "iopub.execute_input": "2023-03-13T19:12:52.293239Z",
     "iopub.status.busy": "2023-03-13T19:12:52.291172Z",
     "iopub.status.idle": "2023-03-13T19:12:52.301852Z",
     "shell.execute_reply": "2023-03-13T19:12:52.300447Z"
    },
    "papermill": {
     "duration": 0.051769,
     "end_time": "2023-03-13T19:12:52.305498",
     "exception": false,
     "start_time": "2023-03-13T19:12:52.253729",
     "status": "completed"
    },
    "tags": []
   },
   "outputs": [],
   "source": [
    "X_train = traindf2.drop([\"Survived\", 'PassengerId'], axis=1)\n",
    "Y_train = traindf2[\"Survived\"]\n",
    "X_test  = testdf2.drop(\"PassengerId\", axis=1).copy()"
   ]
  },
  {
   "cell_type": "code",
   "execution_count": 39,
   "id": "347cd98b",
   "metadata": {
    "execution": {
     "iopub.execute_input": "2023-03-13T19:12:52.365245Z",
     "iopub.status.busy": "2023-03-13T19:12:52.363908Z",
     "iopub.status.idle": "2023-03-13T19:12:52.382391Z",
     "shell.execute_reply": "2023-03-13T19:12:52.380868Z"
    },
    "papermill": {
     "duration": 0.052325,
     "end_time": "2023-03-13T19:12:52.385380",
     "exception": false,
     "start_time": "2023-03-13T19:12:52.333055",
     "status": "completed"
    },
    "tags": []
   },
   "outputs": [
    {
     "data": {
      "text/html": [
       "<div>\n",
       "<style scoped>\n",
       "    .dataframe tbody tr th:only-of-type {\n",
       "        vertical-align: middle;\n",
       "    }\n",
       "\n",
       "    .dataframe tbody tr th {\n",
       "        vertical-align: top;\n",
       "    }\n",
       "\n",
       "    .dataframe thead th {\n",
       "        text-align: right;\n",
       "    }\n",
       "</style>\n",
       "<table border=\"1\" class=\"dataframe\">\n",
       "  <thead>\n",
       "    <tr style=\"text-align: right;\">\n",
       "      <th></th>\n",
       "      <th>Pclass</th>\n",
       "      <th>Sex</th>\n",
       "      <th>Age</th>\n",
       "      <th>SibSp</th>\n",
       "      <th>Parch</th>\n",
       "      <th>Fare</th>\n",
       "      <th>FamilySize</th>\n",
       "      <th>IsAlone</th>\n",
       "      <th>Age_band</th>\n",
       "    </tr>\n",
       "  </thead>\n",
       "  <tbody>\n",
       "    <tr>\n",
       "      <th>0</th>\n",
       "      <td>3</td>\n",
       "      <td>1</td>\n",
       "      <td>34</td>\n",
       "      <td>0</td>\n",
       "      <td>0</td>\n",
       "      <td>0</td>\n",
       "      <td>1</td>\n",
       "      <td>1</td>\n",
       "      <td>2</td>\n",
       "    </tr>\n",
       "    <tr>\n",
       "      <th>1</th>\n",
       "      <td>3</td>\n",
       "      <td>0</td>\n",
       "      <td>47</td>\n",
       "      <td>1</td>\n",
       "      <td>0</td>\n",
       "      <td>0</td>\n",
       "      <td>2</td>\n",
       "      <td>0</td>\n",
       "      <td>2</td>\n",
       "    </tr>\n",
       "    <tr>\n",
       "      <th>2</th>\n",
       "      <td>2</td>\n",
       "      <td>1</td>\n",
       "      <td>62</td>\n",
       "      <td>0</td>\n",
       "      <td>0</td>\n",
       "      <td>1</td>\n",
       "      <td>1</td>\n",
       "      <td>1</td>\n",
       "      <td>3</td>\n",
       "    </tr>\n",
       "    <tr>\n",
       "      <th>3</th>\n",
       "      <td>3</td>\n",
       "      <td>1</td>\n",
       "      <td>27</td>\n",
       "      <td>0</td>\n",
       "      <td>0</td>\n",
       "      <td>1</td>\n",
       "      <td>1</td>\n",
       "      <td>1</td>\n",
       "      <td>0</td>\n",
       "    </tr>\n",
       "    <tr>\n",
       "      <th>4</th>\n",
       "      <td>3</td>\n",
       "      <td>0</td>\n",
       "      <td>22</td>\n",
       "      <td>1</td>\n",
       "      <td>1</td>\n",
       "      <td>1</td>\n",
       "      <td>3</td>\n",
       "      <td>0</td>\n",
       "      <td>0</td>\n",
       "    </tr>\n",
       "    <tr>\n",
       "      <th>...</th>\n",
       "      <td>...</td>\n",
       "      <td>...</td>\n",
       "      <td>...</td>\n",
       "      <td>...</td>\n",
       "      <td>...</td>\n",
       "      <td>...</td>\n",
       "      <td>...</td>\n",
       "      <td>...</td>\n",
       "      <td>...</td>\n",
       "    </tr>\n",
       "    <tr>\n",
       "      <th>413</th>\n",
       "      <td>3</td>\n",
       "      <td>1</td>\n",
       "      <td>27</td>\n",
       "      <td>0</td>\n",
       "      <td>0</td>\n",
       "      <td>1</td>\n",
       "      <td>1</td>\n",
       "      <td>1</td>\n",
       "      <td>0</td>\n",
       "    </tr>\n",
       "    <tr>\n",
       "      <th>414</th>\n",
       "      <td>1</td>\n",
       "      <td>0</td>\n",
       "      <td>39</td>\n",
       "      <td>0</td>\n",
       "      <td>0</td>\n",
       "      <td>3</td>\n",
       "      <td>1</td>\n",
       "      <td>1</td>\n",
       "      <td>2</td>\n",
       "    </tr>\n",
       "    <tr>\n",
       "      <th>415</th>\n",
       "      <td>3</td>\n",
       "      <td>1</td>\n",
       "      <td>38</td>\n",
       "      <td>0</td>\n",
       "      <td>0</td>\n",
       "      <td>0</td>\n",
       "      <td>1</td>\n",
       "      <td>1</td>\n",
       "      <td>2</td>\n",
       "    </tr>\n",
       "    <tr>\n",
       "      <th>416</th>\n",
       "      <td>3</td>\n",
       "      <td>1</td>\n",
       "      <td>27</td>\n",
       "      <td>0</td>\n",
       "      <td>0</td>\n",
       "      <td>1</td>\n",
       "      <td>1</td>\n",
       "      <td>1</td>\n",
       "      <td>0</td>\n",
       "    </tr>\n",
       "    <tr>\n",
       "      <th>417</th>\n",
       "      <td>3</td>\n",
       "      <td>1</td>\n",
       "      <td>27</td>\n",
       "      <td>1</td>\n",
       "      <td>1</td>\n",
       "      <td>2</td>\n",
       "      <td>3</td>\n",
       "      <td>0</td>\n",
       "      <td>0</td>\n",
       "    </tr>\n",
       "  </tbody>\n",
       "</table>\n",
       "<p>418 rows × 9 columns</p>\n",
       "</div>"
      ],
      "text/plain": [
       "     Pclass  Sex  Age  SibSp  Parch  Fare  FamilySize  IsAlone  Age_band\n",
       "0         3    1   34      0      0     0           1        1         2\n",
       "1         3    0   47      1      0     0           2        0         2\n",
       "2         2    1   62      0      0     1           1        1         3\n",
       "3         3    1   27      0      0     1           1        1         0\n",
       "4         3    0   22      1      1     1           3        0         0\n",
       "..      ...  ...  ...    ...    ...   ...         ...      ...       ...\n",
       "413       3    1   27      0      0     1           1        1         0\n",
       "414       1    0   39      0      0     3           1        1         2\n",
       "415       3    1   38      0      0     0           1        1         2\n",
       "416       3    1   27      0      0     1           1        1         0\n",
       "417       3    1   27      1      1     2           3        0         0\n",
       "\n",
       "[418 rows x 9 columns]"
      ]
     },
     "execution_count": 39,
     "metadata": {},
     "output_type": "execute_result"
    }
   ],
   "source": [
    "X_test"
   ]
  },
  {
   "cell_type": "code",
   "execution_count": 40,
   "id": "a25d0ccb",
   "metadata": {
    "execution": {
     "iopub.execute_input": "2023-03-13T19:12:52.448214Z",
     "iopub.status.busy": "2023-03-13T19:12:52.447442Z",
     "iopub.status.idle": "2023-03-13T19:12:52.464617Z",
     "shell.execute_reply": "2023-03-13T19:12:52.462992Z"
    },
    "papermill": {
     "duration": 0.048993,
     "end_time": "2023-03-13T19:12:52.467515",
     "exception": false,
     "start_time": "2023-03-13T19:12:52.418522",
     "status": "completed"
    },
    "tags": []
   },
   "outputs": [
    {
     "data": {
      "text/html": [
       "<div>\n",
       "<style scoped>\n",
       "    .dataframe tbody tr th:only-of-type {\n",
       "        vertical-align: middle;\n",
       "    }\n",
       "\n",
       "    .dataframe tbody tr th {\n",
       "        vertical-align: top;\n",
       "    }\n",
       "\n",
       "    .dataframe thead th {\n",
       "        text-align: right;\n",
       "    }\n",
       "</style>\n",
       "<table border=\"1\" class=\"dataframe\">\n",
       "  <thead>\n",
       "    <tr style=\"text-align: right;\">\n",
       "      <th></th>\n",
       "      <th>Pclass</th>\n",
       "      <th>Sex</th>\n",
       "      <th>Age</th>\n",
       "      <th>SibSp</th>\n",
       "      <th>Parch</th>\n",
       "      <th>Fare</th>\n",
       "      <th>FamilySize</th>\n",
       "      <th>IsAlone</th>\n",
       "      <th>Age_band</th>\n",
       "    </tr>\n",
       "  </thead>\n",
       "  <tbody>\n",
       "    <tr>\n",
       "      <th>0</th>\n",
       "      <td>3</td>\n",
       "      <td>1</td>\n",
       "      <td>22</td>\n",
       "      <td>1</td>\n",
       "      <td>0</td>\n",
       "      <td>0</td>\n",
       "      <td>2</td>\n",
       "      <td>0</td>\n",
       "      <td>0</td>\n",
       "    </tr>\n",
       "    <tr>\n",
       "      <th>1</th>\n",
       "      <td>1</td>\n",
       "      <td>0</td>\n",
       "      <td>38</td>\n",
       "      <td>1</td>\n",
       "      <td>0</td>\n",
       "      <td>3</td>\n",
       "      <td>2</td>\n",
       "      <td>0</td>\n",
       "      <td>2</td>\n",
       "    </tr>\n",
       "    <tr>\n",
       "      <th>2</th>\n",
       "      <td>3</td>\n",
       "      <td>0</td>\n",
       "      <td>26</td>\n",
       "      <td>0</td>\n",
       "      <td>0</td>\n",
       "      <td>1</td>\n",
       "      <td>1</td>\n",
       "      <td>1</td>\n",
       "      <td>0</td>\n",
       "    </tr>\n",
       "    <tr>\n",
       "      <th>3</th>\n",
       "      <td>1</td>\n",
       "      <td>0</td>\n",
       "      <td>35</td>\n",
       "      <td>1</td>\n",
       "      <td>0</td>\n",
       "      <td>3</td>\n",
       "      <td>2</td>\n",
       "      <td>0</td>\n",
       "      <td>2</td>\n",
       "    </tr>\n",
       "    <tr>\n",
       "      <th>4</th>\n",
       "      <td>3</td>\n",
       "      <td>1</td>\n",
       "      <td>35</td>\n",
       "      <td>0</td>\n",
       "      <td>0</td>\n",
       "      <td>1</td>\n",
       "      <td>1</td>\n",
       "      <td>1</td>\n",
       "      <td>2</td>\n",
       "    </tr>\n",
       "    <tr>\n",
       "      <th>...</th>\n",
       "      <td>...</td>\n",
       "      <td>...</td>\n",
       "      <td>...</td>\n",
       "      <td>...</td>\n",
       "      <td>...</td>\n",
       "      <td>...</td>\n",
       "      <td>...</td>\n",
       "      <td>...</td>\n",
       "      <td>...</td>\n",
       "    </tr>\n",
       "    <tr>\n",
       "      <th>886</th>\n",
       "      <td>2</td>\n",
       "      <td>1</td>\n",
       "      <td>27</td>\n",
       "      <td>0</td>\n",
       "      <td>0</td>\n",
       "      <td>1</td>\n",
       "      <td>1</td>\n",
       "      <td>1</td>\n",
       "      <td>0</td>\n",
       "    </tr>\n",
       "    <tr>\n",
       "      <th>887</th>\n",
       "      <td>1</td>\n",
       "      <td>0</td>\n",
       "      <td>19</td>\n",
       "      <td>0</td>\n",
       "      <td>0</td>\n",
       "      <td>2</td>\n",
       "      <td>1</td>\n",
       "      <td>1</td>\n",
       "      <td>0</td>\n",
       "    </tr>\n",
       "    <tr>\n",
       "      <th>888</th>\n",
       "      <td>3</td>\n",
       "      <td>0</td>\n",
       "      <td>28</td>\n",
       "      <td>1</td>\n",
       "      <td>2</td>\n",
       "      <td>2</td>\n",
       "      <td>4</td>\n",
       "      <td>0</td>\n",
       "      <td>0</td>\n",
       "    </tr>\n",
       "    <tr>\n",
       "      <th>889</th>\n",
       "      <td>1</td>\n",
       "      <td>1</td>\n",
       "      <td>26</td>\n",
       "      <td>0</td>\n",
       "      <td>0</td>\n",
       "      <td>2</td>\n",
       "      <td>1</td>\n",
       "      <td>1</td>\n",
       "      <td>0</td>\n",
       "    </tr>\n",
       "    <tr>\n",
       "      <th>890</th>\n",
       "      <td>3</td>\n",
       "      <td>1</td>\n",
       "      <td>32</td>\n",
       "      <td>0</td>\n",
       "      <td>0</td>\n",
       "      <td>0</td>\n",
       "      <td>1</td>\n",
       "      <td>1</td>\n",
       "      <td>0</td>\n",
       "    </tr>\n",
       "  </tbody>\n",
       "</table>\n",
       "<p>891 rows × 9 columns</p>\n",
       "</div>"
      ],
      "text/plain": [
       "     Pclass  Sex  Age  SibSp  Parch  Fare  FamilySize  IsAlone  Age_band\n",
       "0         3    1   22      1      0     0           2        0         0\n",
       "1         1    0   38      1      0     3           2        0         2\n",
       "2         3    0   26      0      0     1           1        1         0\n",
       "3         1    0   35      1      0     3           2        0         2\n",
       "4         3    1   35      0      0     1           1        1         2\n",
       "..      ...  ...  ...    ...    ...   ...         ...      ...       ...\n",
       "886       2    1   27      0      0     1           1        1         0\n",
       "887       1    0   19      0      0     2           1        1         0\n",
       "888       3    0   28      1      2     2           4        0         0\n",
       "889       1    1   26      0      0     2           1        1         0\n",
       "890       3    1   32      0      0     0           1        1         0\n",
       "\n",
       "[891 rows x 9 columns]"
      ]
     },
     "execution_count": 40,
     "metadata": {},
     "output_type": "execute_result"
    }
   ],
   "source": [
    "X_train"
   ]
  },
  {
   "cell_type": "code",
   "execution_count": 41,
   "id": "abbf2634",
   "metadata": {
    "execution": {
     "iopub.execute_input": "2023-03-13T19:12:52.532032Z",
     "iopub.status.busy": "2023-03-13T19:12:52.531278Z",
     "iopub.status.idle": "2023-03-13T19:12:52.539880Z",
     "shell.execute_reply": "2023-03-13T19:12:52.538308Z"
    },
    "papermill": {
     "duration": 0.04816,
     "end_time": "2023-03-13T19:12:52.543165",
     "exception": false,
     "start_time": "2023-03-13T19:12:52.495005",
     "status": "completed"
    },
    "tags": []
   },
   "outputs": [
    {
     "data": {
      "text/plain": [
       "((891, 9), (891,), (418, 9))"
      ]
     },
     "execution_count": 41,
     "metadata": {},
     "output_type": "execute_result"
    }
   ],
   "source": [
    "X_train.shape, Y_train.shape, X_test.shape"
   ]
  },
  {
   "cell_type": "code",
   "execution_count": 42,
   "id": "a969a494",
   "metadata": {
    "execution": {
     "iopub.execute_input": "2023-03-13T19:12:52.601672Z",
     "iopub.status.busy": "2023-03-13T19:12:52.600556Z",
     "iopub.status.idle": "2023-03-13T19:12:52.654002Z",
     "shell.execute_reply": "2023-03-13T19:12:52.651597Z"
    },
    "papermill": {
     "duration": 0.08786,
     "end_time": "2023-03-13T19:12:52.658229",
     "exception": false,
     "start_time": "2023-03-13T19:12:52.570369",
     "status": "completed"
    },
    "tags": []
   },
   "outputs": [
    {
     "name": "stderr",
     "output_type": "stream",
     "text": [
      "/opt/conda/lib/python3.7/site-packages/sklearn/linear_model/_logistic.py:818: ConvergenceWarning: lbfgs failed to converge (status=1):\n",
      "STOP: TOTAL NO. of ITERATIONS REACHED LIMIT.\n",
      "\n",
      "Increase the number of iterations (max_iter) or scale the data as shown in:\n",
      "    https://scikit-learn.org/stable/modules/preprocessing.html\n",
      "Please also refer to the documentation for alternative solver options:\n",
      "    https://scikit-learn.org/stable/modules/linear_model.html#logistic-regression\n",
      "  extra_warning_msg=_LOGISTIC_SOLVER_CONVERGENCE_MSG,\n"
     ]
    },
    {
     "data": {
      "text/plain": [
       "80.92"
      ]
     },
     "execution_count": 42,
     "metadata": {},
     "output_type": "execute_result"
    }
   ],
   "source": [
    "# Logistic Regression\n",
    "\n",
    "logreg = LogisticRegression()\n",
    "logreg.fit(X_train, Y_train)\n",
    "Y_pred = logreg.predict(X_test)\n",
    "acc_log = round(logreg.score(X_train, Y_train) * 100, 2)\n",
    "acc_log"
   ]
  },
  {
   "cell_type": "code",
   "execution_count": 43,
   "id": "85930809",
   "metadata": {
    "execution": {
     "iopub.execute_input": "2023-03-13T19:12:52.725359Z",
     "iopub.status.busy": "2023-03-13T19:12:52.724449Z",
     "iopub.status.idle": "2023-03-13T19:12:52.846579Z",
     "shell.execute_reply": "2023-03-13T19:12:52.845256Z"
    },
    "papermill": {
     "duration": 0.15832,
     "end_time": "2023-03-13T19:12:52.850348",
     "exception": false,
     "start_time": "2023-03-13T19:12:52.692028",
     "status": "completed"
    },
    "tags": []
   },
   "outputs": [
    {
     "data": {
      "text/plain": [
       "64.98"
      ]
     },
     "execution_count": 43,
     "metadata": {},
     "output_type": "execute_result"
    }
   ],
   "source": [
    "# Support Vector Machines\n",
    "\n",
    "svc = SVC()\n",
    "svc.fit(X_train, Y_train)\n",
    "Y_pred = svc.predict(X_test)\n",
    "acc_svc = round(svc.score(X_train, Y_train) * 100, 2)\n",
    "acc_svc"
   ]
  },
  {
   "cell_type": "code",
   "execution_count": 44,
   "id": "a888f31e",
   "metadata": {
    "execution": {
     "iopub.execute_input": "2023-03-13T19:12:52.909593Z",
     "iopub.status.busy": "2023-03-13T19:12:52.908099Z",
     "iopub.status.idle": "2023-03-13T19:12:52.970005Z",
     "shell.execute_reply": "2023-03-13T19:12:52.968369Z"
    },
    "papermill": {
     "duration": 0.09518,
     "end_time": "2023-03-13T19:12:52.973387",
     "exception": false,
     "start_time": "2023-03-13T19:12:52.878207",
     "status": "completed"
    },
    "tags": []
   },
   "outputs": [
    {
     "data": {
      "text/plain": [
       "87.43"
      ]
     },
     "execution_count": 44,
     "metadata": {},
     "output_type": "execute_result"
    }
   ],
   "source": [
    "knn = KNeighborsClassifier(n_neighbors = 3)\n",
    "knn.fit(X_train, Y_train)\n",
    "Y_pred = knn.predict(X_test)\n",
    "acc_knn = round(knn.score(X_train, Y_train) * 100, 2)\n",
    "acc_knn"
   ]
  },
  {
   "cell_type": "code",
   "execution_count": 45,
   "id": "dc283929",
   "metadata": {
    "execution": {
     "iopub.execute_input": "2023-03-13T19:12:53.030463Z",
     "iopub.status.busy": "2023-03-13T19:12:53.029207Z",
     "iopub.status.idle": "2023-03-13T19:12:53.047599Z",
     "shell.execute_reply": "2023-03-13T19:12:53.046135Z"
    },
    "papermill": {
     "duration": 0.049652,
     "end_time": "2023-03-13T19:12:53.050041",
     "exception": false,
     "start_time": "2023-03-13T19:12:53.000389",
     "status": "completed"
    },
    "tags": []
   },
   "outputs": [
    {
     "data": {
      "text/plain": [
       "77.78"
      ]
     },
     "execution_count": 45,
     "metadata": {},
     "output_type": "execute_result"
    }
   ],
   "source": [
    "# Gaussian Naive Bayes\n",
    "\n",
    "gaussian = GaussianNB()\n",
    "gaussian.fit(X_train, Y_train)\n",
    "Y_pred = gaussian.predict(X_test)\n",
    "acc_gaussian = round(gaussian.score(X_train, Y_train) * 100, 2)\n",
    "acc_gaussian"
   ]
  },
  {
   "cell_type": "code",
   "execution_count": 46,
   "id": "19862713",
   "metadata": {
    "execution": {
     "iopub.execute_input": "2023-03-13T19:12:53.108718Z",
     "iopub.status.busy": "2023-03-13T19:12:53.107413Z",
     "iopub.status.idle": "2023-03-13T19:12:53.126540Z",
     "shell.execute_reply": "2023-03-13T19:12:53.125576Z"
    },
    "papermill": {
     "duration": 0.052088,
     "end_time": "2023-03-13T19:12:53.129046",
     "exception": false,
     "start_time": "2023-03-13T19:12:53.076958",
     "status": "completed"
    },
    "tags": []
   },
   "outputs": [
    {
     "data": {
      "text/plain": [
       "76.32"
      ]
     },
     "execution_count": 46,
     "metadata": {},
     "output_type": "execute_result"
    }
   ],
   "source": [
    "# Perceptron\n",
    "\n",
    "perceptron = Perceptron()\n",
    "perceptron.fit(X_train, Y_train)\n",
    "Y_pred = perceptron.predict(X_test)\n",
    "acc_perceptron = round(perceptron.score(X_train, Y_train) * 100, 2)\n",
    "acc_perceptron"
   ]
  },
  {
   "cell_type": "code",
   "execution_count": 47,
   "id": "9cec822f",
   "metadata": {
    "execution": {
     "iopub.execute_input": "2023-03-13T19:12:53.186195Z",
     "iopub.status.busy": "2023-03-13T19:12:53.184773Z",
     "iopub.status.idle": "2023-03-13T19:12:53.253675Z",
     "shell.execute_reply": "2023-03-13T19:12:53.252092Z"
    },
    "papermill": {
     "duration": 0.102091,
     "end_time": "2023-03-13T19:12:53.257456",
     "exception": false,
     "start_time": "2023-03-13T19:12:53.155365",
     "status": "completed"
    },
    "tags": []
   },
   "outputs": [
    {
     "name": "stderr",
     "output_type": "stream",
     "text": [
      "/opt/conda/lib/python3.7/site-packages/sklearn/svm/_base.py:1208: ConvergenceWarning: Liblinear failed to converge, increase the number of iterations.\n",
      "  ConvergenceWarning,\n"
     ]
    },
    {
     "data": {
      "text/plain": [
       "79.8"
      ]
     },
     "execution_count": 47,
     "metadata": {},
     "output_type": "execute_result"
    }
   ],
   "source": [
    "# Linear SVC\n",
    "\n",
    "linear_svc = LinearSVC()\n",
    "linear_svc.fit(X_train, Y_train)\n",
    "Y_pred = linear_svc.predict(X_test)\n",
    "acc_linear_svc = round(linear_svc.score(X_train, Y_train) * 100, 2)\n",
    "acc_linear_svc"
   ]
  },
  {
   "cell_type": "code",
   "execution_count": 48,
   "id": "a43a570a",
   "metadata": {
    "execution": {
     "iopub.execute_input": "2023-03-13T19:12:53.311506Z",
     "iopub.status.busy": "2023-03-13T19:12:53.311098Z",
     "iopub.status.idle": "2023-03-13T19:12:53.331620Z",
     "shell.execute_reply": "2023-03-13T19:12:53.330236Z"
    },
    "papermill": {
     "duration": 0.051559,
     "end_time": "2023-03-13T19:12:53.334874",
     "exception": false,
     "start_time": "2023-03-13T19:12:53.283315",
     "status": "completed"
    },
    "tags": []
   },
   "outputs": [
    {
     "data": {
      "text/plain": [
       "71.83"
      ]
     },
     "execution_count": 48,
     "metadata": {},
     "output_type": "execute_result"
    }
   ],
   "source": [
    "# Stochastic Gradient Descent\n",
    "\n",
    "sgd = SGDClassifier()\n",
    "sgd.fit(X_train, Y_train)\n",
    "Y_pred = sgd.predict(X_test)\n",
    "acc_sgd = round(sgd.score(X_train, Y_train) * 100, 2)\n",
    "acc_sgd"
   ]
  },
  {
   "cell_type": "code",
   "execution_count": 49,
   "id": "89da8d32",
   "metadata": {
    "execution": {
     "iopub.execute_input": "2023-03-13T19:12:53.391998Z",
     "iopub.status.busy": "2023-03-13T19:12:53.391506Z",
     "iopub.status.idle": "2023-03-13T19:12:53.409982Z",
     "shell.execute_reply": "2023-03-13T19:12:53.408647Z"
    },
    "papermill": {
     "duration": 0.049512,
     "end_time": "2023-03-13T19:12:53.412844",
     "exception": false,
     "start_time": "2023-03-13T19:12:53.363332",
     "status": "completed"
    },
    "tags": []
   },
   "outputs": [
    {
     "data": {
      "text/plain": [
       "93.71"
      ]
     },
     "execution_count": 49,
     "metadata": {},
     "output_type": "execute_result"
    }
   ],
   "source": [
    "# Decision Tree\n",
    "\n",
    "decision_tree = DecisionTreeClassifier()\n",
    "decision_tree.fit(X_train, Y_train)\n",
    "Y_pred = decision_tree.predict(X_test)\n",
    "acc_decision_tree = round(decision_tree.score(X_train, Y_train) * 100, 2)\n",
    "acc_decision_tree"
   ]
  },
  {
   "cell_type": "code",
   "execution_count": 50,
   "id": "db19f8a2",
   "metadata": {
    "execution": {
     "iopub.execute_input": "2023-03-13T19:12:53.471891Z",
     "iopub.status.busy": "2023-03-13T19:12:53.470969Z",
     "iopub.status.idle": "2023-03-13T19:12:53.805743Z",
     "shell.execute_reply": "2023-03-13T19:12:53.804638Z"
    },
    "papermill": {
     "duration": 0.367666,
     "end_time": "2023-03-13T19:12:53.809342",
     "exception": false,
     "start_time": "2023-03-13T19:12:53.441676",
     "status": "completed"
    },
    "tags": []
   },
   "outputs": [
    {
     "data": {
      "text/plain": [
       "93.71"
      ]
     },
     "execution_count": 50,
     "metadata": {},
     "output_type": "execute_result"
    }
   ],
   "source": [
    "# Random Forest\n",
    "\n",
    "random_forest = RandomForestClassifier(n_estimators=100)\n",
    "random_forest.fit(X_train, Y_train)\n",
    "Y_pred = random_forest.predict(X_test)\n",
    "random_forest.score(X_train, Y_train)\n",
    "acc_random_forest = round(random_forest.score(X_train, Y_train) * 100, 2)\n",
    "acc_random_forest"
   ]
  },
  {
   "cell_type": "code",
   "execution_count": 51,
   "id": "9a87b83c",
   "metadata": {
    "execution": {
     "iopub.execute_input": "2023-03-13T19:12:53.871238Z",
     "iopub.status.busy": "2023-03-13T19:12:53.870298Z",
     "iopub.status.idle": "2023-03-13T19:12:53.886641Z",
     "shell.execute_reply": "2023-03-13T19:12:53.884683Z"
    },
    "papermill": {
     "duration": 0.05034,
     "end_time": "2023-03-13T19:12:53.889736",
     "exception": false,
     "start_time": "2023-03-13T19:12:53.839396",
     "status": "completed"
    },
    "tags": []
   },
   "outputs": [
    {
     "data": {
      "text/html": [
       "<div>\n",
       "<style scoped>\n",
       "    .dataframe tbody tr th:only-of-type {\n",
       "        vertical-align: middle;\n",
       "    }\n",
       "\n",
       "    .dataframe tbody tr th {\n",
       "        vertical-align: top;\n",
       "    }\n",
       "\n",
       "    .dataframe thead th {\n",
       "        text-align: right;\n",
       "    }\n",
       "</style>\n",
       "<table border=\"1\" class=\"dataframe\">\n",
       "  <thead>\n",
       "    <tr style=\"text-align: right;\">\n",
       "      <th></th>\n",
       "      <th>Model</th>\n",
       "      <th>Score</th>\n",
       "    </tr>\n",
       "  </thead>\n",
       "  <tbody>\n",
       "    <tr>\n",
       "      <th>3</th>\n",
       "      <td>Random Forest</td>\n",
       "      <td>93.71</td>\n",
       "    </tr>\n",
       "    <tr>\n",
       "      <th>8</th>\n",
       "      <td>Decision Tree</td>\n",
       "      <td>93.71</td>\n",
       "    </tr>\n",
       "    <tr>\n",
       "      <th>1</th>\n",
       "      <td>KNN</td>\n",
       "      <td>87.43</td>\n",
       "    </tr>\n",
       "    <tr>\n",
       "      <th>2</th>\n",
       "      <td>Logistic Regression</td>\n",
       "      <td>80.92</td>\n",
       "    </tr>\n",
       "    <tr>\n",
       "      <th>7</th>\n",
       "      <td>Linear SVC</td>\n",
       "      <td>79.80</td>\n",
       "    </tr>\n",
       "    <tr>\n",
       "      <th>4</th>\n",
       "      <td>Naive Bayes</td>\n",
       "      <td>77.78</td>\n",
       "    </tr>\n",
       "    <tr>\n",
       "      <th>5</th>\n",
       "      <td>Perceptron</td>\n",
       "      <td>76.32</td>\n",
       "    </tr>\n",
       "    <tr>\n",
       "      <th>6</th>\n",
       "      <td>Stochastic Gradient Decent</td>\n",
       "      <td>71.83</td>\n",
       "    </tr>\n",
       "    <tr>\n",
       "      <th>0</th>\n",
       "      <td>Support Vector Machines</td>\n",
       "      <td>64.98</td>\n",
       "    </tr>\n",
       "  </tbody>\n",
       "</table>\n",
       "</div>"
      ],
      "text/plain": [
       "                        Model  Score\n",
       "3               Random Forest  93.71\n",
       "8               Decision Tree  93.71\n",
       "1                         KNN  87.43\n",
       "2         Logistic Regression  80.92\n",
       "7                  Linear SVC  79.80\n",
       "4                 Naive Bayes  77.78\n",
       "5                  Perceptron  76.32\n",
       "6  Stochastic Gradient Decent  71.83\n",
       "0     Support Vector Machines  64.98"
      ]
     },
     "execution_count": 51,
     "metadata": {},
     "output_type": "execute_result"
    }
   ],
   "source": [
    "models = pd.DataFrame({\n",
    "    'Model': ['Support Vector Machines', 'KNN', 'Logistic Regression', \n",
    "              'Random Forest', 'Naive Bayes', 'Perceptron', \n",
    "              'Stochastic Gradient Decent', 'Linear SVC', \n",
    "              'Decision Tree'],\n",
    "    'Score': [acc_svc, acc_knn, acc_log, \n",
    "              acc_random_forest, acc_gaussian, acc_perceptron, \n",
    "              acc_sgd, acc_linear_svc, acc_decision_tree]})\n",
    "models.sort_values(by='Score', ascending=False)"
   ]
  },
  {
   "cell_type": "code",
   "execution_count": 52,
   "id": "395b26d0",
   "metadata": {
    "execution": {
     "iopub.execute_input": "2023-03-13T19:12:53.946150Z",
     "iopub.status.busy": "2023-03-13T19:12:53.945605Z",
     "iopub.status.idle": "2023-03-13T19:12:53.983135Z",
     "shell.execute_reply": "2023-03-13T19:12:53.981441Z"
    },
    "papermill": {
     "duration": 0.07014,
     "end_time": "2023-03-13T19:12:53.986902",
     "exception": false,
     "start_time": "2023-03-13T19:12:53.916762",
     "status": "completed"
    },
    "tags": []
   },
   "outputs": [],
   "source": [
    "Y_pred = random_forest.predict(X_test)\n",
    "submission = pd.DataFrame({\n",
    "        \"PassengerId\": testdf2[\"PassengerId\"],\n",
    "        \"Survived\": Y_pred\n",
    "    })\n",
    "submission.to_csv(\"../working/submit3.csv\", index=False)"
   ]
  },
  {
   "cell_type": "code",
   "execution_count": null,
   "id": "6138b1ea",
   "metadata": {
    "papermill": {
     "duration": 0.027643,
     "end_time": "2023-03-13T19:12:54.041469",
     "exception": false,
     "start_time": "2023-03-13T19:12:54.013826",
     "status": "completed"
    },
    "tags": []
   },
   "outputs": [],
   "source": []
  }
 ],
 "metadata": {
  "kernelspec": {
   "display_name": "Python 3",
   "language": "python",
   "name": "python3"
  },
  "language_info": {
   "codemirror_mode": {
    "name": "ipython",
    "version": 3
   },
   "file_extension": ".py",
   "mimetype": "text/x-python",
   "name": "python",
   "nbconvert_exporter": "python",
   "pygments_lexer": "ipython3",
   "version": "3.7.12"
  },
  "papermill": {
   "default_parameters": {},
   "duration": 23.611399,
   "end_time": "2023-03-13T19:12:55.096355",
   "environment_variables": {},
   "exception": null,
   "input_path": "__notebook__.ipynb",
   "output_path": "__notebook__.ipynb",
   "parameters": {},
   "start_time": "2023-03-13T19:12:31.484956",
   "version": "2.4.0"
  }
 },
 "nbformat": 4,
 "nbformat_minor": 5
}
